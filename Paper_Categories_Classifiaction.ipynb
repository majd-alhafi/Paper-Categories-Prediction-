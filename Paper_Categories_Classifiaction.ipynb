{
  "nbformat": 4,
  "nbformat_minor": 0,
  "metadata": {
    "colab": {
      "name": "Paper Categories Classifiaction.ipynb",
      "provenance": [],
      "collapsed_sections": [
        "orIzVh3vGkmC",
        "HK1-1fRSGQxk",
        "LcyqPzWLC_oM",
        "NO2sNUKcqAit",
        "__0_qBg6lv1q",
        "kz_yduqqzwlP",
        "Q_9a2ZgGqVNf",
        "Iqb1O5KTitPb",
        "blD8Qb3NjmCN",
        "h7Si7IAEjK33"
      ]
    },
    "kernelspec": {
      "name": "python3",
      "display_name": "Python 3"
    },
    "language_info": {
      "name": "python"
    },
    "gpuClass": "standard",
    "widgets": {
      "application/vnd.jupyter.widget-state+json": {
        "48975d3118104bdf9283acf321ca66e2": {
          "model_module": "@jupyter-widgets/controls",
          "model_name": "HBoxModel",
          "model_module_version": "1.5.0",
          "state": {
            "_dom_classes": [],
            "_model_module": "@jupyter-widgets/controls",
            "_model_module_version": "1.5.0",
            "_model_name": "HBoxModel",
            "_view_count": null,
            "_view_module": "@jupyter-widgets/controls",
            "_view_module_version": "1.5.0",
            "_view_name": "HBoxView",
            "box_style": "",
            "children": [
              "IPY_MODEL_8aff1468a4364deb9ae0dc91b67f352d",
              "IPY_MODEL_008c2215bcd04f32a048efa0caaf6483",
              "IPY_MODEL_b450ef2d2336488482a30146f0202279"
            ],
            "layout": "IPY_MODEL_24c8d29ce62a4a76a22288236dd733e3"
          }
        },
        "8aff1468a4364deb9ae0dc91b67f352d": {
          "model_module": "@jupyter-widgets/controls",
          "model_name": "HTMLModel",
          "model_module_version": "1.5.0",
          "state": {
            "_dom_classes": [],
            "_model_module": "@jupyter-widgets/controls",
            "_model_module_version": "1.5.0",
            "_model_name": "HTMLModel",
            "_view_count": null,
            "_view_module": "@jupyter-widgets/controls",
            "_view_module_version": "1.5.0",
            "_view_name": "HTMLView",
            "description": "",
            "description_tooltip": null,
            "layout": "IPY_MODEL_4e977c19bb6841c2a49d1429e6ef2757",
            "placeholder": "​",
            "style": "IPY_MODEL_cb891f6729374c44bb0351ac08fb8c05",
            "value": "Downloading: 100%"
          }
        },
        "008c2215bcd04f32a048efa0caaf6483": {
          "model_module": "@jupyter-widgets/controls",
          "model_name": "FloatProgressModel",
          "model_module_version": "1.5.0",
          "state": {
            "_dom_classes": [],
            "_model_module": "@jupyter-widgets/controls",
            "_model_module_version": "1.5.0",
            "_model_name": "FloatProgressModel",
            "_view_count": null,
            "_view_module": "@jupyter-widgets/controls",
            "_view_module_version": "1.5.0",
            "_view_name": "ProgressView",
            "bar_style": "success",
            "description": "",
            "description_tooltip": null,
            "layout": "IPY_MODEL_265531c269f24540a15c72abf0c9a16a",
            "max": 440473133,
            "min": 0,
            "orientation": "horizontal",
            "style": "IPY_MODEL_02133c1d2a7b425b964f08bc5c0bb33f",
            "value": 440473133
          }
        },
        "b450ef2d2336488482a30146f0202279": {
          "model_module": "@jupyter-widgets/controls",
          "model_name": "HTMLModel",
          "model_module_version": "1.5.0",
          "state": {
            "_dom_classes": [],
            "_model_module": "@jupyter-widgets/controls",
            "_model_module_version": "1.5.0",
            "_model_name": "HTMLModel",
            "_view_count": null,
            "_view_module": "@jupyter-widgets/controls",
            "_view_module_version": "1.5.0",
            "_view_name": "HTMLView",
            "description": "",
            "description_tooltip": null,
            "layout": "IPY_MODEL_d67947f6ef8442e8804ab7a139e36d5a",
            "placeholder": "​",
            "style": "IPY_MODEL_1fcc451fac7045888da74dbb6bdfeda1",
            "value": " 420M/420M [00:07&lt;00:00, 61.8MB/s]"
          }
        },
        "24c8d29ce62a4a76a22288236dd733e3": {
          "model_module": "@jupyter-widgets/base",
          "model_name": "LayoutModel",
          "model_module_version": "1.2.0",
          "state": {
            "_model_module": "@jupyter-widgets/base",
            "_model_module_version": "1.2.0",
            "_model_name": "LayoutModel",
            "_view_count": null,
            "_view_module": "@jupyter-widgets/base",
            "_view_module_version": "1.2.0",
            "_view_name": "LayoutView",
            "align_content": null,
            "align_items": null,
            "align_self": null,
            "border": null,
            "bottom": null,
            "display": null,
            "flex": null,
            "flex_flow": null,
            "grid_area": null,
            "grid_auto_columns": null,
            "grid_auto_flow": null,
            "grid_auto_rows": null,
            "grid_column": null,
            "grid_gap": null,
            "grid_row": null,
            "grid_template_areas": null,
            "grid_template_columns": null,
            "grid_template_rows": null,
            "height": null,
            "justify_content": null,
            "justify_items": null,
            "left": null,
            "margin": null,
            "max_height": null,
            "max_width": null,
            "min_height": null,
            "min_width": null,
            "object_fit": null,
            "object_position": null,
            "order": null,
            "overflow": null,
            "overflow_x": null,
            "overflow_y": null,
            "padding": null,
            "right": null,
            "top": null,
            "visibility": null,
            "width": null
          }
        },
        "4e977c19bb6841c2a49d1429e6ef2757": {
          "model_module": "@jupyter-widgets/base",
          "model_name": "LayoutModel",
          "model_module_version": "1.2.0",
          "state": {
            "_model_module": "@jupyter-widgets/base",
            "_model_module_version": "1.2.0",
            "_model_name": "LayoutModel",
            "_view_count": null,
            "_view_module": "@jupyter-widgets/base",
            "_view_module_version": "1.2.0",
            "_view_name": "LayoutView",
            "align_content": null,
            "align_items": null,
            "align_self": null,
            "border": null,
            "bottom": null,
            "display": null,
            "flex": null,
            "flex_flow": null,
            "grid_area": null,
            "grid_auto_columns": null,
            "grid_auto_flow": null,
            "grid_auto_rows": null,
            "grid_column": null,
            "grid_gap": null,
            "grid_row": null,
            "grid_template_areas": null,
            "grid_template_columns": null,
            "grid_template_rows": null,
            "height": null,
            "justify_content": null,
            "justify_items": null,
            "left": null,
            "margin": null,
            "max_height": null,
            "max_width": null,
            "min_height": null,
            "min_width": null,
            "object_fit": null,
            "object_position": null,
            "order": null,
            "overflow": null,
            "overflow_x": null,
            "overflow_y": null,
            "padding": null,
            "right": null,
            "top": null,
            "visibility": null,
            "width": null
          }
        },
        "cb891f6729374c44bb0351ac08fb8c05": {
          "model_module": "@jupyter-widgets/controls",
          "model_name": "DescriptionStyleModel",
          "model_module_version": "1.5.0",
          "state": {
            "_model_module": "@jupyter-widgets/controls",
            "_model_module_version": "1.5.0",
            "_model_name": "DescriptionStyleModel",
            "_view_count": null,
            "_view_module": "@jupyter-widgets/base",
            "_view_module_version": "1.2.0",
            "_view_name": "StyleView",
            "description_width": ""
          }
        },
        "265531c269f24540a15c72abf0c9a16a": {
          "model_module": "@jupyter-widgets/base",
          "model_name": "LayoutModel",
          "model_module_version": "1.2.0",
          "state": {
            "_model_module": "@jupyter-widgets/base",
            "_model_module_version": "1.2.0",
            "_model_name": "LayoutModel",
            "_view_count": null,
            "_view_module": "@jupyter-widgets/base",
            "_view_module_version": "1.2.0",
            "_view_name": "LayoutView",
            "align_content": null,
            "align_items": null,
            "align_self": null,
            "border": null,
            "bottom": null,
            "display": null,
            "flex": null,
            "flex_flow": null,
            "grid_area": null,
            "grid_auto_columns": null,
            "grid_auto_flow": null,
            "grid_auto_rows": null,
            "grid_column": null,
            "grid_gap": null,
            "grid_row": null,
            "grid_template_areas": null,
            "grid_template_columns": null,
            "grid_template_rows": null,
            "height": null,
            "justify_content": null,
            "justify_items": null,
            "left": null,
            "margin": null,
            "max_height": null,
            "max_width": null,
            "min_height": null,
            "min_width": null,
            "object_fit": null,
            "object_position": null,
            "order": null,
            "overflow": null,
            "overflow_x": null,
            "overflow_y": null,
            "padding": null,
            "right": null,
            "top": null,
            "visibility": null,
            "width": null
          }
        },
        "02133c1d2a7b425b964f08bc5c0bb33f": {
          "model_module": "@jupyter-widgets/controls",
          "model_name": "ProgressStyleModel",
          "model_module_version": "1.5.0",
          "state": {
            "_model_module": "@jupyter-widgets/controls",
            "_model_module_version": "1.5.0",
            "_model_name": "ProgressStyleModel",
            "_view_count": null,
            "_view_module": "@jupyter-widgets/base",
            "_view_module_version": "1.2.0",
            "_view_name": "StyleView",
            "bar_color": null,
            "description_width": ""
          }
        },
        "d67947f6ef8442e8804ab7a139e36d5a": {
          "model_module": "@jupyter-widgets/base",
          "model_name": "LayoutModel",
          "model_module_version": "1.2.0",
          "state": {
            "_model_module": "@jupyter-widgets/base",
            "_model_module_version": "1.2.0",
            "_model_name": "LayoutModel",
            "_view_count": null,
            "_view_module": "@jupyter-widgets/base",
            "_view_module_version": "1.2.0",
            "_view_name": "LayoutView",
            "align_content": null,
            "align_items": null,
            "align_self": null,
            "border": null,
            "bottom": null,
            "display": null,
            "flex": null,
            "flex_flow": null,
            "grid_area": null,
            "grid_auto_columns": null,
            "grid_auto_flow": null,
            "grid_auto_rows": null,
            "grid_column": null,
            "grid_gap": null,
            "grid_row": null,
            "grid_template_areas": null,
            "grid_template_columns": null,
            "grid_template_rows": null,
            "height": null,
            "justify_content": null,
            "justify_items": null,
            "left": null,
            "margin": null,
            "max_height": null,
            "max_width": null,
            "min_height": null,
            "min_width": null,
            "object_fit": null,
            "object_position": null,
            "order": null,
            "overflow": null,
            "overflow_x": null,
            "overflow_y": null,
            "padding": null,
            "right": null,
            "top": null,
            "visibility": null,
            "width": null
          }
        },
        "1fcc451fac7045888da74dbb6bdfeda1": {
          "model_module": "@jupyter-widgets/controls",
          "model_name": "DescriptionStyleModel",
          "model_module_version": "1.5.0",
          "state": {
            "_model_module": "@jupyter-widgets/controls",
            "_model_module_version": "1.5.0",
            "_model_name": "DescriptionStyleModel",
            "_view_count": null,
            "_view_module": "@jupyter-widgets/base",
            "_view_module_version": "1.2.0",
            "_view_name": "StyleView",
            "description_width": ""
          }
        },
        "e40bb2118a3f48158fafc13c3ed6b660": {
          "model_module": "@jupyter-widgets/controls",
          "model_name": "HBoxModel",
          "model_module_version": "1.5.0",
          "state": {
            "_dom_classes": [],
            "_model_module": "@jupyter-widgets/controls",
            "_model_module_version": "1.5.0",
            "_model_name": "HBoxModel",
            "_view_count": null,
            "_view_module": "@jupyter-widgets/controls",
            "_view_module_version": "1.5.0",
            "_view_name": "HBoxView",
            "box_style": "",
            "children": [
              "IPY_MODEL_3dedb89aae97486191ebd10587066496",
              "IPY_MODEL_eaf40afacdb84d44bd8014eb728ff6f1",
              "IPY_MODEL_c23bbb44404a48fe84f8924b95874de3"
            ],
            "layout": "IPY_MODEL_5472ca46565f46b5bc8bff288b7c0907"
          }
        },
        "3dedb89aae97486191ebd10587066496": {
          "model_module": "@jupyter-widgets/controls",
          "model_name": "HTMLModel",
          "model_module_version": "1.5.0",
          "state": {
            "_dom_classes": [],
            "_model_module": "@jupyter-widgets/controls",
            "_model_module_version": "1.5.0",
            "_model_name": "HTMLModel",
            "_view_count": null,
            "_view_module": "@jupyter-widgets/controls",
            "_view_module_version": "1.5.0",
            "_view_name": "HTMLView",
            "description": "",
            "description_tooltip": null,
            "layout": "IPY_MODEL_0ecaf3ce74d24ef093414443c74bcdaa",
            "placeholder": "​",
            "style": "IPY_MODEL_d12c4545d1ad42ffb4d2ad06b0fad9fd",
            "value": "100%"
          }
        },
        "eaf40afacdb84d44bd8014eb728ff6f1": {
          "model_module": "@jupyter-widgets/controls",
          "model_name": "FloatProgressModel",
          "model_module_version": "1.5.0",
          "state": {
            "_dom_classes": [],
            "_model_module": "@jupyter-widgets/controls",
            "_model_module_version": "1.5.0",
            "_model_name": "FloatProgressModel",
            "_view_count": null,
            "_view_module": "@jupyter-widgets/controls",
            "_view_module_version": "1.5.0",
            "_view_name": "ProgressView",
            "bar_style": "success",
            "description": "",
            "description_tooltip": null,
            "layout": "IPY_MODEL_bba94cb300e44c72b64e8d3447184005",
            "max": 36994,
            "min": 0,
            "orientation": "horizontal",
            "style": "IPY_MODEL_060c1c15cb0d45aaa9a955b242fbc83d",
            "value": 36994
          }
        },
        "c23bbb44404a48fe84f8924b95874de3": {
          "model_module": "@jupyter-widgets/controls",
          "model_name": "HTMLModel",
          "model_module_version": "1.5.0",
          "state": {
            "_dom_classes": [],
            "_model_module": "@jupyter-widgets/controls",
            "_model_module_version": "1.5.0",
            "_model_name": "HTMLModel",
            "_view_count": null,
            "_view_module": "@jupyter-widgets/controls",
            "_view_module_version": "1.5.0",
            "_view_name": "HTMLView",
            "description": "",
            "description_tooltip": null,
            "layout": "IPY_MODEL_cdb2c79e692948858c38a1614e852e60",
            "placeholder": "​",
            "style": "IPY_MODEL_107e145e85ee4c45b671b1ebf0e3c1c7",
            "value": " 36994/36994 [00:46&lt;00:00, 825.63it/s]"
          }
        },
        "5472ca46565f46b5bc8bff288b7c0907": {
          "model_module": "@jupyter-widgets/base",
          "model_name": "LayoutModel",
          "model_module_version": "1.2.0",
          "state": {
            "_model_module": "@jupyter-widgets/base",
            "_model_module_version": "1.2.0",
            "_model_name": "LayoutModel",
            "_view_count": null,
            "_view_module": "@jupyter-widgets/base",
            "_view_module_version": "1.2.0",
            "_view_name": "LayoutView",
            "align_content": null,
            "align_items": null,
            "align_self": null,
            "border": null,
            "bottom": null,
            "display": null,
            "flex": null,
            "flex_flow": null,
            "grid_area": null,
            "grid_auto_columns": null,
            "grid_auto_flow": null,
            "grid_auto_rows": null,
            "grid_column": null,
            "grid_gap": null,
            "grid_row": null,
            "grid_template_areas": null,
            "grid_template_columns": null,
            "grid_template_rows": null,
            "height": null,
            "justify_content": null,
            "justify_items": null,
            "left": null,
            "margin": null,
            "max_height": null,
            "max_width": null,
            "min_height": null,
            "min_width": null,
            "object_fit": null,
            "object_position": null,
            "order": null,
            "overflow": null,
            "overflow_x": null,
            "overflow_y": null,
            "padding": null,
            "right": null,
            "top": null,
            "visibility": null,
            "width": null
          }
        },
        "0ecaf3ce74d24ef093414443c74bcdaa": {
          "model_module": "@jupyter-widgets/base",
          "model_name": "LayoutModel",
          "model_module_version": "1.2.0",
          "state": {
            "_model_module": "@jupyter-widgets/base",
            "_model_module_version": "1.2.0",
            "_model_name": "LayoutModel",
            "_view_count": null,
            "_view_module": "@jupyter-widgets/base",
            "_view_module_version": "1.2.0",
            "_view_name": "LayoutView",
            "align_content": null,
            "align_items": null,
            "align_self": null,
            "border": null,
            "bottom": null,
            "display": null,
            "flex": null,
            "flex_flow": null,
            "grid_area": null,
            "grid_auto_columns": null,
            "grid_auto_flow": null,
            "grid_auto_rows": null,
            "grid_column": null,
            "grid_gap": null,
            "grid_row": null,
            "grid_template_areas": null,
            "grid_template_columns": null,
            "grid_template_rows": null,
            "height": null,
            "justify_content": null,
            "justify_items": null,
            "left": null,
            "margin": null,
            "max_height": null,
            "max_width": null,
            "min_height": null,
            "min_width": null,
            "object_fit": null,
            "object_position": null,
            "order": null,
            "overflow": null,
            "overflow_x": null,
            "overflow_y": null,
            "padding": null,
            "right": null,
            "top": null,
            "visibility": null,
            "width": null
          }
        },
        "d12c4545d1ad42ffb4d2ad06b0fad9fd": {
          "model_module": "@jupyter-widgets/controls",
          "model_name": "DescriptionStyleModel",
          "model_module_version": "1.5.0",
          "state": {
            "_model_module": "@jupyter-widgets/controls",
            "_model_module_version": "1.5.0",
            "_model_name": "DescriptionStyleModel",
            "_view_count": null,
            "_view_module": "@jupyter-widgets/base",
            "_view_module_version": "1.2.0",
            "_view_name": "StyleView",
            "description_width": ""
          }
        },
        "bba94cb300e44c72b64e8d3447184005": {
          "model_module": "@jupyter-widgets/base",
          "model_name": "LayoutModel",
          "model_module_version": "1.2.0",
          "state": {
            "_model_module": "@jupyter-widgets/base",
            "_model_module_version": "1.2.0",
            "_model_name": "LayoutModel",
            "_view_count": null,
            "_view_module": "@jupyter-widgets/base",
            "_view_module_version": "1.2.0",
            "_view_name": "LayoutView",
            "align_content": null,
            "align_items": null,
            "align_self": null,
            "border": null,
            "bottom": null,
            "display": null,
            "flex": null,
            "flex_flow": null,
            "grid_area": null,
            "grid_auto_columns": null,
            "grid_auto_flow": null,
            "grid_auto_rows": null,
            "grid_column": null,
            "grid_gap": null,
            "grid_row": null,
            "grid_template_areas": null,
            "grid_template_columns": null,
            "grid_template_rows": null,
            "height": null,
            "justify_content": null,
            "justify_items": null,
            "left": null,
            "margin": null,
            "max_height": null,
            "max_width": null,
            "min_height": null,
            "min_width": null,
            "object_fit": null,
            "object_position": null,
            "order": null,
            "overflow": null,
            "overflow_x": null,
            "overflow_y": null,
            "padding": null,
            "right": null,
            "top": null,
            "visibility": null,
            "width": null
          }
        },
        "060c1c15cb0d45aaa9a955b242fbc83d": {
          "model_module": "@jupyter-widgets/controls",
          "model_name": "ProgressStyleModel",
          "model_module_version": "1.5.0",
          "state": {
            "_model_module": "@jupyter-widgets/controls",
            "_model_module_version": "1.5.0",
            "_model_name": "ProgressStyleModel",
            "_view_count": null,
            "_view_module": "@jupyter-widgets/base",
            "_view_module_version": "1.2.0",
            "_view_name": "StyleView",
            "bar_color": null,
            "description_width": ""
          }
        },
        "cdb2c79e692948858c38a1614e852e60": {
          "model_module": "@jupyter-widgets/base",
          "model_name": "LayoutModel",
          "model_module_version": "1.2.0",
          "state": {
            "_model_module": "@jupyter-widgets/base",
            "_model_module_version": "1.2.0",
            "_model_name": "LayoutModel",
            "_view_count": null,
            "_view_module": "@jupyter-widgets/base",
            "_view_module_version": "1.2.0",
            "_view_name": "LayoutView",
            "align_content": null,
            "align_items": null,
            "align_self": null,
            "border": null,
            "bottom": null,
            "display": null,
            "flex": null,
            "flex_flow": null,
            "grid_area": null,
            "grid_auto_columns": null,
            "grid_auto_flow": null,
            "grid_auto_rows": null,
            "grid_column": null,
            "grid_gap": null,
            "grid_row": null,
            "grid_template_areas": null,
            "grid_template_columns": null,
            "grid_template_rows": null,
            "height": null,
            "justify_content": null,
            "justify_items": null,
            "left": null,
            "margin": null,
            "max_height": null,
            "max_width": null,
            "min_height": null,
            "min_width": null,
            "object_fit": null,
            "object_position": null,
            "order": null,
            "overflow": null,
            "overflow_x": null,
            "overflow_y": null,
            "padding": null,
            "right": null,
            "top": null,
            "visibility": null,
            "width": null
          }
        },
        "107e145e85ee4c45b671b1ebf0e3c1c7": {
          "model_module": "@jupyter-widgets/controls",
          "model_name": "DescriptionStyleModel",
          "model_module_version": "1.5.0",
          "state": {
            "_model_module": "@jupyter-widgets/controls",
            "_model_module_version": "1.5.0",
            "_model_name": "DescriptionStyleModel",
            "_view_count": null,
            "_view_module": "@jupyter-widgets/base",
            "_view_module_version": "1.2.0",
            "_view_name": "StyleView",
            "description_width": ""
          }
        },
        "661b2b5cc85447b0b1f78b1d93974958": {
          "model_module": "@jupyter-widgets/controls",
          "model_name": "HBoxModel",
          "model_module_version": "1.5.0",
          "state": {
            "_dom_classes": [],
            "_model_module": "@jupyter-widgets/controls",
            "_model_module_version": "1.5.0",
            "_model_name": "HBoxModel",
            "_view_count": null,
            "_view_module": "@jupyter-widgets/controls",
            "_view_module_version": "1.5.0",
            "_view_name": "HBoxView",
            "box_style": "",
            "children": [
              "IPY_MODEL_48db7e7cf06544c19441cc92ce7bc8ca",
              "IPY_MODEL_9d46919153954f79b946c69cdd6f2519",
              "IPY_MODEL_b21faa816b684268afb90d18172fcde2"
            ],
            "layout": "IPY_MODEL_c7b1991071b4499b9e4bc7d849a03f65"
          }
        },
        "48db7e7cf06544c19441cc92ce7bc8ca": {
          "model_module": "@jupyter-widgets/controls",
          "model_name": "HTMLModel",
          "model_module_version": "1.5.0",
          "state": {
            "_dom_classes": [],
            "_model_module": "@jupyter-widgets/controls",
            "_model_module_version": "1.5.0",
            "_model_name": "HTMLModel",
            "_view_count": null,
            "_view_module": "@jupyter-widgets/controls",
            "_view_module_version": "1.5.0",
            "_view_name": "HTMLView",
            "description": "",
            "description_tooltip": null,
            "layout": "IPY_MODEL_66134686544449e19c7d54d512a3b26f",
            "placeholder": "​",
            "style": "IPY_MODEL_2ffe32132f6b45edbf38bcde4b772854",
            "value": "100%"
          }
        },
        "9d46919153954f79b946c69cdd6f2519": {
          "model_module": "@jupyter-widgets/controls",
          "model_name": "FloatProgressModel",
          "model_module_version": "1.5.0",
          "state": {
            "_dom_classes": [],
            "_model_module": "@jupyter-widgets/controls",
            "_model_module_version": "1.5.0",
            "_model_name": "FloatProgressModel",
            "_view_count": null,
            "_view_module": "@jupyter-widgets/controls",
            "_view_module_version": "1.5.0",
            "_view_name": "ProgressView",
            "bar_style": "success",
            "description": "",
            "description_tooltip": null,
            "layout": "IPY_MODEL_46750c9d2d3e4ce0811518736817a986",
            "max": 4111,
            "min": 0,
            "orientation": "horizontal",
            "style": "IPY_MODEL_72bf477cc9d940d3a7765b29accb48d1",
            "value": 4111
          }
        },
        "b21faa816b684268afb90d18172fcde2": {
          "model_module": "@jupyter-widgets/controls",
          "model_name": "HTMLModel",
          "model_module_version": "1.5.0",
          "state": {
            "_dom_classes": [],
            "_model_module": "@jupyter-widgets/controls",
            "_model_module_version": "1.5.0",
            "_model_name": "HTMLModel",
            "_view_count": null,
            "_view_module": "@jupyter-widgets/controls",
            "_view_module_version": "1.5.0",
            "_view_name": "HTMLView",
            "description": "",
            "description_tooltip": null,
            "layout": "IPY_MODEL_550bbc2386b94b008eff898e16843d10",
            "placeholder": "​",
            "style": "IPY_MODEL_6d605a84b84f4249aaf5218986ea8a24",
            "value": " 4111/4111 [00:05&lt;00:00, 832.23it/s]"
          }
        },
        "c7b1991071b4499b9e4bc7d849a03f65": {
          "model_module": "@jupyter-widgets/base",
          "model_name": "LayoutModel",
          "model_module_version": "1.2.0",
          "state": {
            "_model_module": "@jupyter-widgets/base",
            "_model_module_version": "1.2.0",
            "_model_name": "LayoutModel",
            "_view_count": null,
            "_view_module": "@jupyter-widgets/base",
            "_view_module_version": "1.2.0",
            "_view_name": "LayoutView",
            "align_content": null,
            "align_items": null,
            "align_self": null,
            "border": null,
            "bottom": null,
            "display": null,
            "flex": null,
            "flex_flow": null,
            "grid_area": null,
            "grid_auto_columns": null,
            "grid_auto_flow": null,
            "grid_auto_rows": null,
            "grid_column": null,
            "grid_gap": null,
            "grid_row": null,
            "grid_template_areas": null,
            "grid_template_columns": null,
            "grid_template_rows": null,
            "height": null,
            "justify_content": null,
            "justify_items": null,
            "left": null,
            "margin": null,
            "max_height": null,
            "max_width": null,
            "min_height": null,
            "min_width": null,
            "object_fit": null,
            "object_position": null,
            "order": null,
            "overflow": null,
            "overflow_x": null,
            "overflow_y": null,
            "padding": null,
            "right": null,
            "top": null,
            "visibility": null,
            "width": null
          }
        },
        "66134686544449e19c7d54d512a3b26f": {
          "model_module": "@jupyter-widgets/base",
          "model_name": "LayoutModel",
          "model_module_version": "1.2.0",
          "state": {
            "_model_module": "@jupyter-widgets/base",
            "_model_module_version": "1.2.0",
            "_model_name": "LayoutModel",
            "_view_count": null,
            "_view_module": "@jupyter-widgets/base",
            "_view_module_version": "1.2.0",
            "_view_name": "LayoutView",
            "align_content": null,
            "align_items": null,
            "align_self": null,
            "border": null,
            "bottom": null,
            "display": null,
            "flex": null,
            "flex_flow": null,
            "grid_area": null,
            "grid_auto_columns": null,
            "grid_auto_flow": null,
            "grid_auto_rows": null,
            "grid_column": null,
            "grid_gap": null,
            "grid_row": null,
            "grid_template_areas": null,
            "grid_template_columns": null,
            "grid_template_rows": null,
            "height": null,
            "justify_content": null,
            "justify_items": null,
            "left": null,
            "margin": null,
            "max_height": null,
            "max_width": null,
            "min_height": null,
            "min_width": null,
            "object_fit": null,
            "object_position": null,
            "order": null,
            "overflow": null,
            "overflow_x": null,
            "overflow_y": null,
            "padding": null,
            "right": null,
            "top": null,
            "visibility": null,
            "width": null
          }
        },
        "2ffe32132f6b45edbf38bcde4b772854": {
          "model_module": "@jupyter-widgets/controls",
          "model_name": "DescriptionStyleModel",
          "model_module_version": "1.5.0",
          "state": {
            "_model_module": "@jupyter-widgets/controls",
            "_model_module_version": "1.5.0",
            "_model_name": "DescriptionStyleModel",
            "_view_count": null,
            "_view_module": "@jupyter-widgets/base",
            "_view_module_version": "1.2.0",
            "_view_name": "StyleView",
            "description_width": ""
          }
        },
        "46750c9d2d3e4ce0811518736817a986": {
          "model_module": "@jupyter-widgets/base",
          "model_name": "LayoutModel",
          "model_module_version": "1.2.0",
          "state": {
            "_model_module": "@jupyter-widgets/base",
            "_model_module_version": "1.2.0",
            "_model_name": "LayoutModel",
            "_view_count": null,
            "_view_module": "@jupyter-widgets/base",
            "_view_module_version": "1.2.0",
            "_view_name": "LayoutView",
            "align_content": null,
            "align_items": null,
            "align_self": null,
            "border": null,
            "bottom": null,
            "display": null,
            "flex": null,
            "flex_flow": null,
            "grid_area": null,
            "grid_auto_columns": null,
            "grid_auto_flow": null,
            "grid_auto_rows": null,
            "grid_column": null,
            "grid_gap": null,
            "grid_row": null,
            "grid_template_areas": null,
            "grid_template_columns": null,
            "grid_template_rows": null,
            "height": null,
            "justify_content": null,
            "justify_items": null,
            "left": null,
            "margin": null,
            "max_height": null,
            "max_width": null,
            "min_height": null,
            "min_width": null,
            "object_fit": null,
            "object_position": null,
            "order": null,
            "overflow": null,
            "overflow_x": null,
            "overflow_y": null,
            "padding": null,
            "right": null,
            "top": null,
            "visibility": null,
            "width": null
          }
        },
        "72bf477cc9d940d3a7765b29accb48d1": {
          "model_module": "@jupyter-widgets/controls",
          "model_name": "ProgressStyleModel",
          "model_module_version": "1.5.0",
          "state": {
            "_model_module": "@jupyter-widgets/controls",
            "_model_module_version": "1.5.0",
            "_model_name": "ProgressStyleModel",
            "_view_count": null,
            "_view_module": "@jupyter-widgets/base",
            "_view_module_version": "1.2.0",
            "_view_name": "StyleView",
            "bar_color": null,
            "description_width": ""
          }
        },
        "550bbc2386b94b008eff898e16843d10": {
          "model_module": "@jupyter-widgets/base",
          "model_name": "LayoutModel",
          "model_module_version": "1.2.0",
          "state": {
            "_model_module": "@jupyter-widgets/base",
            "_model_module_version": "1.2.0",
            "_model_name": "LayoutModel",
            "_view_count": null,
            "_view_module": "@jupyter-widgets/base",
            "_view_module_version": "1.2.0",
            "_view_name": "LayoutView",
            "align_content": null,
            "align_items": null,
            "align_self": null,
            "border": null,
            "bottom": null,
            "display": null,
            "flex": null,
            "flex_flow": null,
            "grid_area": null,
            "grid_auto_columns": null,
            "grid_auto_flow": null,
            "grid_auto_rows": null,
            "grid_column": null,
            "grid_gap": null,
            "grid_row": null,
            "grid_template_areas": null,
            "grid_template_columns": null,
            "grid_template_rows": null,
            "height": null,
            "justify_content": null,
            "justify_items": null,
            "left": null,
            "margin": null,
            "max_height": null,
            "max_width": null,
            "min_height": null,
            "min_width": null,
            "object_fit": null,
            "object_position": null,
            "order": null,
            "overflow": null,
            "overflow_x": null,
            "overflow_y": null,
            "padding": null,
            "right": null,
            "top": null,
            "visibility": null,
            "width": null
          }
        },
        "6d605a84b84f4249aaf5218986ea8a24": {
          "model_module": "@jupyter-widgets/controls",
          "model_name": "DescriptionStyleModel",
          "model_module_version": "1.5.0",
          "state": {
            "_model_module": "@jupyter-widgets/controls",
            "_model_module_version": "1.5.0",
            "_model_name": "DescriptionStyleModel",
            "_view_count": null,
            "_view_module": "@jupyter-widgets/base",
            "_view_module_version": "1.2.0",
            "_view_name": "StyleView",
            "description_width": ""
          }
        }
      }
    }
  },
  "cells": [
    {
      "cell_type": "markdown",
      "source": [
        "#Import Libraries"
      ],
      "metadata": {
        "id": "orIzVh3vGkmC"
      }
    },
    {
      "cell_type": "code",
      "source": [
        "!pip install datasets\n",
        "!pip install transformers"
      ],
      "metadata": {
        "id": "rcgx0iQNCXtO"
      },
      "execution_count": null,
      "outputs": []
    },
    {
      "cell_type": "code",
      "source": [
        "import os\n",
        "import nltk\n",
        "import torch\n",
        "import itertools\n",
        "import datasets\n",
        "import pandas as pd\n",
        "import numpy as np\n",
        "from collections import Counter\n",
        "import matplotlib.pyplot as plt\n",
        "from transformers import AutoModelForSequenceClassification\n",
        "from transformers import AutoTokenizer\n",
        "from transformers import TrainingArguments, Trainer\n",
        "from sklearn.model_selection import train_test_split\n",
        "from sklearn.metrics import f1_score, roc_auc_score, accuracy_score\n",
        "from transformers import EvalPrediction\n",
        "from nltk.corpus import stopwords\n",
        "from nltk.tokenize import word_tokenize\n",
        "from nltk.stem import PorterStemmer\n",
        "import seaborn as sns \n",
        "\n",
        "import random\n",
        "from tqdm.notebook import tqdm\n",
        "from sklearn.metrics import classification_report, confusion_matrix\n",
        "\n",
        "import tensorflow as tf\n",
        "from tensorflow.keras.layers import *\n",
        "from tensorflow.keras.models import *\n",
        "from tensorflow.keras.optimizers import *\n",
        "from tensorflow.keras.callbacks import *\n",
        "from tensorflow.keras import backend as K\n",
        "\n",
        "from transformers import TFAutoModel, BertConfig, TFBertModel\n",
        "\n",
        "\n",
        "nltk.download('stopwords')\n",
        "nltk.download('punkt')"
      ],
      "metadata": {
        "id": "Tz2OpqwAGplf",
        "colab": {
          "base_uri": "https://localhost:8080/"
        },
        "outputId": "8697bba8-762c-49bc-aaa3-6a4c03ee3796"
      },
      "execution_count": null,
      "outputs": [
        {
          "output_type": "stream",
          "name": "stderr",
          "text": [
            "[nltk_data] Downloading package stopwords to /root/nltk_data...\n",
            "[nltk_data]   Package stopwords is already up-to-date!\n",
            "[nltk_data] Downloading package punkt to /root/nltk_data...\n",
            "[nltk_data]   Package punkt is already up-to-date!\n"
          ]
        },
        {
          "output_type": "execute_result",
          "data": {
            "text/plain": [
              "True"
            ]
          },
          "metadata": {},
          "execution_count": 1
        }
      ]
    },
    {
      "cell_type": "markdown",
      "source": [
        "#Dataset"
      ],
      "metadata": {
        "id": "HK1-1fRSGQxk"
      }
    },
    {
      "cell_type": "markdown",
      "source": [
        "##Downloading"
      ],
      "metadata": {
        "id": "LcyqPzWLC_oM"
      }
    },
    {
      "cell_type": "code",
      "source": [
        "os.environ['KAGGLE_CONFIG_DIR'] = \"/content/drive/MyDrive/Kaggle\""
      ],
      "metadata": {
        "id": "wBTM4d0uGZ6R"
      },
      "execution_count": null,
      "outputs": []
    },
    {
      "cell_type": "code",
      "execution_count": null,
      "metadata": {
        "colab": {
          "base_uri": "https://localhost:8080/"
        },
        "id": "T6D6zaMYF52Y",
        "outputId": "a9c6aa06-0ce9-4cac-d7a5-9215dd50f38e"
      },
      "outputs": [
        {
          "output_type": "stream",
          "name": "stdout",
          "text": [
            "Downloading arxiv-paper-abstracts.zip to /content\n",
            " 74% 33.0M/44.6M [00:00<00:00, 99.6MB/s]\n",
            "100% 44.6M/44.6M [00:00<00:00, 112MB/s] \n"
          ]
        }
      ],
      "source": [
        "!kaggle datasets download -d spsayakpaul/arxiv-paper-abstracts"
      ]
    },
    {
      "cell_type": "code",
      "source": [
        "!unzip /content/arxiv-paper-abstracts.zip"
      ],
      "metadata": {
        "colab": {
          "base_uri": "https://localhost:8080/"
        },
        "id": "02EN1j-oGsML",
        "outputId": "7d215713-a363-4988-e3a0-576d3ab33af1"
      },
      "execution_count": null,
      "outputs": [
        {
          "output_type": "stream",
          "name": "stdout",
          "text": [
            "Archive:  /content/arxiv-paper-abstracts.zip\n",
            "  inflating: arxiv_data.csv          \n",
            "  inflating: arxiv_data_210930-054931.csv  \n"
          ]
        }
      ]
    },
    {
      "cell_type": "markdown",
      "source": [
        "##Processing "
      ],
      "metadata": {
        "id": "Zoz6xQt3DFCt"
      }
    },
    {
      "cell_type": "code",
      "source": [
        "df_1 = pd.read_csv('/content/arxiv_data_210930-054931.csv')"
      ],
      "metadata": {
        "id": "B9rIvTc2hzcm"
      },
      "execution_count": null,
      "outputs": []
    },
    {
      "cell_type": "code",
      "source": [
        "df_1.drop_duplicates('titles',inplace=True)"
      ],
      "metadata": {
        "id": "T5HRBkEojZVz"
      },
      "execution_count": null,
      "outputs": []
    },
    {
      "cell_type": "code",
      "source": [
        "def extract_string(str):\n",
        "    return str[1:-1]"
      ],
      "metadata": {
        "id": "E9Jas4rMTcip"
      },
      "execution_count": null,
      "outputs": []
    },
    {
      "cell_type": "code",
      "source": [
        "df_1['terms_'] = df_1['terms'].apply((lambda x: list(map(extract_string,x.strip('][').split(', ')))))"
      ],
      "metadata": {
        "id": "tCaHnw6yVwNh"
      },
      "execution_count": null,
      "outputs": []
    },
    {
      "cell_type": "code",
      "source": [
        "df_1['num_of_label'] = df_1['terms_'].apply(len)"
      ],
      "metadata": {
        "id": "ntI7gG90HgtV"
      },
      "execution_count": null,
      "outputs": []
    },
    {
      "cell_type": "code",
      "source": [
        "y = list(df_1['num_of_label'].value_counts())\n",
        "x = list(range(1,len(y)+1))"
      ],
      "metadata": {
        "id": "cATfiKZ4WqFd"
      },
      "execution_count": null,
      "outputs": []
    },
    {
      "cell_type": "code",
      "source": [
        "fig , ax = plt.subplots()\n",
        "ax.bar(x,y)\n",
        "ax.set_xlabel('# of Label')\n",
        "ax.set_ylabel('# of samples')\n",
        "ax.set_xticks(list(range(1,len(x))))\n",
        "plt.show()"
      ],
      "metadata": {
        "colab": {
          "base_uri": "https://localhost:8080/",
          "height": 279
        },
        "id": "rjFzt4BpVbBq",
        "outputId": "ffd764f0-df02-47b1-9cc1-a141591e5f7f"
      },
      "execution_count": null,
      "outputs": [
        {
          "output_type": "display_data",
          "data": {
            "text/plain": [
              "<Figure size 432x288 with 1 Axes>"
            ],
            "image/png": "[encoded data removed]"
          },
          "metadata": {
            "needs_background": "light"
          }
        }
      ]
    },
    {
      "cell_type": "code",
      "source": [
        "labels = df_1['terms_'].to_list()\n",
        "flatten_list = list(itertools.chain(*labels))\n",
        "class_count = Counter(flatten_list)\n",
        "class_count_dic_sorted = dict(sorted(class_count.items(), key=lambda item: item[1],reverse=True))\n",
        "top_3_class = list(class_count_dic_sorted.keys())[:3]"
      ],
      "metadata": {
        "id": "8g5pK5NFW4Md"
      },
      "execution_count": null,
      "outputs": []
    },
    {
      "cell_type": "code",
      "source": [
        "top_3_class"
      ],
      "metadata": {
        "colab": {
          "base_uri": "https://localhost:8080/"
        },
        "id": "a-_MhF2zhnoM",
        "outputId": "c4ad4555-cb38-4567-b901-7ef3a9552c8a"
      },
      "execution_count": null,
      "outputs": [
        {
          "output_type": "execute_result",
          "data": {
            "text/plain": [
              "['cs.CV', 'cs.LG', 'stat.ML']"
            ]
          },
          "metadata": {},
          "execution_count": 10
        }
      ]
    },
    {
      "cell_type": "code",
      "source": [
        "dic_ = {'cs.CV':[],\n",
        "        'cs.LG':[], \n",
        "        'stat.ML':[]}\n",
        "for _,r in df_1.iterrows():\n",
        "  list_of_labels = r['terms_']\n",
        "  list_of_intersection_labels = list(set(list_of_labels) & set(top_3_class))\n",
        "  list_of_diffrence_labels = list(set(top_3_class) - set(list_of_intersection_labels))\n",
        "  for item in list_of_intersection_labels:\n",
        "    dic_[item].append(1)\n",
        "  for item in list_of_diffrence_labels:\n",
        "    dic_[item].append(0)"
      ],
      "metadata": {
        "id": "9iqHDliGpanp"
      },
      "execution_count": null,
      "outputs": []
    },
    {
      "cell_type": "code",
      "source": [
        "Counter(dic_['cs.CV'])"
      ],
      "metadata": {
        "colab": {
          "base_uri": "https://localhost:8080/"
        },
        "id": "PikgfBecvi_z",
        "outputId": "1f27b6c9-68bc-4d1c-e623-227977bbcf3d"
      },
      "execution_count": null,
      "outputs": [
        {
          "output_type": "execute_result",
          "data": {
            "text/plain": [
              "Counter({0: 17648, 1: 23457})"
            ]
          },
          "metadata": {},
          "execution_count": 13
        }
      ]
    },
    {
      "cell_type": "code",
      "source": [
        "Counter(dic_['cs.LG'])"
      ],
      "metadata": {
        "colab": {
          "base_uri": "https://localhost:8080/"
        },
        "id": "CJvnE9i5vppL",
        "outputId": "f8ca3935-ca4a-40bd-a52e-d80c978c1db9"
      },
      "execution_count": null,
      "outputs": [
        {
          "output_type": "execute_result",
          "data": {
            "text/plain": [
              "Counter({0: 17814, 1: 23291})"
            ]
          },
          "metadata": {},
          "execution_count": 14
        }
      ]
    },
    {
      "cell_type": "code",
      "source": [
        "Counter(dic_['stat.ML'])"
      ],
      "metadata": {
        "colab": {
          "base_uri": "https://localhost:8080/"
        },
        "id": "XkmWWiChi_-j",
        "outputId": "13cdbbd4-d078-447e-8cb3-339b980bb55b"
      },
      "execution_count": null,
      "outputs": [
        {
          "output_type": "execute_result",
          "data": {
            "text/plain": [
              "Counter({0: 28004, 1: 13101})"
            ]
          },
          "metadata": {},
          "execution_count": 15
        }
      ]
    },
    {
      "cell_type": "markdown",
      "source": [
        "### Using One Input Feature \"Abstracts\""
      ],
      "metadata": {
        "id": "NO2sNUKcqAit"
      }
    },
    {
      "cell_type": "code",
      "source": [
        "featuers_columns = ['abstracts']"
      ],
      "metadata": {
        "id": "UB_IExCFvkFV"
      },
      "execution_count": null,
      "outputs": []
    },
    {
      "cell_type": "code",
      "source": [
        "df_1.reset_index(inplace=True,drop=True)\n",
        "df_1.drop(columns=df_1.columns[df_1.columns != featuers_columns[0]],inplace = True)"
      ],
      "metadata": {
        "id": "LTbzNWKXwM_2"
      },
      "execution_count": null,
      "outputs": []
    },
    {
      "cell_type": "markdown",
      "source": [
        "#### Using PorterStemmer (Optional)"
      ],
      "metadata": {
        "id": "__0_qBg6lv1q"
      }
    },
    {
      "cell_type": "code",
      "source": [
        "ps = PorterStemmer()\n",
        "stop_words = set(stopwords.words('english'))"
      ],
      "metadata": {
        "id": "haiiPEX8ZWuZ"
      },
      "execution_count": null,
      "outputs": []
    },
    {
      "cell_type": "code",
      "source": [
        "def stem_word(w):\n",
        "  if w not in stop_words:\n",
        "    return ps.stem(w)\n",
        "  else:\n",
        "    return ''"
      ],
      "metadata": {
        "id": "DOMyy104dlqo"
      },
      "execution_count": null,
      "outputs": []
    },
    {
      "cell_type": "code",
      "source": [
        "df_1['abstracts'] = df_1['abstracts'].apply(lambda x: ' '.join(list(map(stem_word,word_tokenize(x)))))"
      ],
      "metadata": {
        "id": "hQm7iGc8eC89"
      },
      "execution_count": null,
      "outputs": []
    },
    {
      "cell_type": "markdown",
      "source": [
        "#### Convert to DatasetDict"
      ],
      "metadata": {
        "id": "kz_yduqqzwlP"
      }
    },
    {
      "cell_type": "code",
      "source": [
        "df_concat = pd.concat([df_1, pd.DataFrame(dic_)], axis=1)"
      ],
      "metadata": {
        "id": "rleGa3OW-4qr"
      },
      "execution_count": null,
      "outputs": []
    },
    {
      "cell_type": "code",
      "source": [
        "df_concat_train,df_concat_validation = train_test_split(df_concat, test_size=0.2, random_state=42)"
      ],
      "metadata": {
        "id": "1f7jpdyEXfzO"
      },
      "execution_count": null,
      "outputs": []
    },
    {
      "cell_type": "code",
      "source": [
        "df_concat_train.reset_index(inplace=True,drop=True)\n",
        "df_concat_validation.reset_index(inplace=True,drop=True)"
      ],
      "metadata": {
        "id": "5Uca_tGTwzu4"
      },
      "execution_count": null,
      "outputs": []
    },
    {
      "cell_type": "code",
      "source": [
        "huggingface_dataset_train = datasets.Dataset.from_pandas(df_concat_train)\n",
        "huggingface_dataset_validation = datasets.Dataset.from_pandas(df_concat_validation)"
      ],
      "metadata": {
        "id": "3TGRseMvBMWL"
      },
      "execution_count": null,
      "outputs": []
    },
    {
      "cell_type": "code",
      "source": [
        "huggingface_dataset_train"
      ],
      "metadata": {
        "id": "4P0nUwWsy-Kg"
      },
      "execution_count": null,
      "outputs": []
    },
    {
      "cell_type": "code",
      "source": [
        "dataset = datasets.DatasetDict()"
      ],
      "metadata": {
        "id": "-srVQbNMBMcB"
      },
      "execution_count": null,
      "outputs": []
    },
    {
      "cell_type": "code",
      "source": [
        "dataset['train'] = huggingface_dataset_train\n",
        "dataset['validation'] = huggingface_dataset_validation"
      ],
      "metadata": {
        "id": "BxVHGdJXB9to"
      },
      "execution_count": null,
      "outputs": []
    },
    {
      "cell_type": "code",
      "source": [
        "dataset"
      ],
      "metadata": {
        "id": "Rt8B7365CHib"
      },
      "execution_count": null,
      "outputs": []
    },
    {
      "cell_type": "code",
      "source": [
        "example = dataset['train'][0]"
      ],
      "metadata": {
        "id": "JP9Xb9jPEnqp"
      },
      "execution_count": null,
      "outputs": []
    },
    {
      "cell_type": "code",
      "source": [
        "example"
      ],
      "metadata": {
        "id": "git9qaSwEq0F"
      },
      "execution_count": null,
      "outputs": []
    },
    {
      "cell_type": "code",
      "source": [
        "dataset['train'].features.keys()"
      ],
      "metadata": {
        "id": "3PucMRnlF80n"
      },
      "execution_count": null,
      "outputs": []
    },
    {
      "cell_type": "code",
      "source": [
        "labels = [label for label in dataset['train'].features.keys() if label not in featuers_columns]\n",
        "id2label = {idx:label for idx, label in enumerate(labels)}\n",
        "label2id = {label:idx for idx, label in enumerate(labels)}\n",
        "labels"
      ],
      "metadata": {
        "id": "7Vvg1kG6ulEx"
      },
      "execution_count": null,
      "outputs": []
    },
    {
      "cell_type": "code",
      "source": [
        "abstracts_len = df_1['abstracts'].apply((lambda x: len(x.split())))"
      ],
      "metadata": {
        "id": "Q97d3Uk_HzO_"
      },
      "execution_count": null,
      "outputs": []
    },
    {
      "cell_type": "code",
      "source": [
        "MAX_LENGTH = max(abstracts_len)"
      ],
      "metadata": {
        "id": "pHGI9sT-H0WI"
      },
      "execution_count": null,
      "outputs": []
    },
    {
      "cell_type": "code",
      "source": [
        "tokenizer = AutoTokenizer.from_pretrained(\"bert-base-uncased\")\n",
        "\n",
        "def preprocess_data(examples):\n",
        "  # take a batch of texts\n",
        "  text = examples[\"abstracts\"]\n",
        "  # encode them\n",
        "  encoding = tokenizer(text, padding=\"max_length\", truncation=True, max_length=MAX_LENGTH)\n",
        "  # add labels\n",
        "  labels_batch = {k: examples[k] for k in examples.keys() if k in labels}\n",
        "  # create numpy array of shape (batch_size, num_labels)\n",
        "  labels_matrix = np.zeros((len(text), len(labels)))\n",
        "  # fill numpy array\n",
        "  for idx, label in enumerate(labels):\n",
        "    labels_matrix[:, idx] = labels_batch[label]\n",
        "\n",
        "  encoding[\"labels\"] = labels_matrix.tolist()\n",
        "  \n",
        "  return encoding"
      ],
      "metadata": {
        "id": "0CxtaCIBExW4"
      },
      "execution_count": null,
      "outputs": []
    },
    {
      "cell_type": "code",
      "source": [
        "encoded_dataset = dataset.map(preprocess_data, batched=True, remove_columns=dataset['train'].column_names)"
      ],
      "metadata": {
        "id": "QByEwiieExZt"
      },
      "execution_count": null,
      "outputs": []
    },
    {
      "cell_type": "code",
      "source": [
        "example = encoded_dataset['train'][0]\n",
        "print(example.keys())"
      ],
      "metadata": {
        "id": "5D4yhYwCExfX"
      },
      "execution_count": null,
      "outputs": []
    },
    {
      "cell_type": "code",
      "source": [
        "[id2label[idx] for idx, label in enumerate(example['labels']) if label == 1.0]"
      ],
      "metadata": {
        "id": "G2BPZxG3ExoN"
      },
      "execution_count": null,
      "outputs": []
    },
    {
      "cell_type": "code",
      "source": [
        "encoded_dataset.set_format(\"torch\")"
      ],
      "metadata": {
        "id": "OlR4T5x_Exuj"
      },
      "execution_count": null,
      "outputs": []
    },
    {
      "cell_type": "markdown",
      "source": [
        "### Using Two Input Feauters \"Abstracts\" and \"Titles\""
      ],
      "metadata": {
        "id": "Q_9a2ZgGqVNf"
      }
    },
    {
      "cell_type": "code",
      "source": [
        "condition1 = df_1.columns != 'abstracts'\n",
        "condition2 = df_1.columns != 'titles'"
      ],
      "metadata": {
        "id": "jD2jBOdvq96F"
      },
      "execution_count": null,
      "outputs": []
    },
    {
      "cell_type": "code",
      "source": [
        "df_1.reset_index(inplace=True,drop=True)\n",
        "df_1.drop(columns=df_1.columns[np.logical_and(condition1,condition2)],inplace = True)"
      ],
      "metadata": {
        "id": "T97etpvbq7WE"
      },
      "execution_count": null,
      "outputs": []
    },
    {
      "cell_type": "code",
      "source": [
        "featuers_columns = list(df_1.columns)"
      ],
      "metadata": {
        "id": "js6YsxBb2JaJ"
      },
      "execution_count": null,
      "outputs": []
    },
    {
      "cell_type": "markdown",
      "source": [
        "#Training"
      ],
      "metadata": {
        "id": "Iqb1O5KTitPb"
      }
    },
    {
      "cell_type": "markdown",
      "source": [
        "## Using One Input Feature \"Abstracts\" "
      ],
      "metadata": {
        "id": "blD8Qb3NjmCN"
      }
    },
    {
      "cell_type": "code",
      "source": [
        "model = AutoModelForSequenceClassification.from_pretrained(\"bert-base-uncased\", \n",
        "                                                           problem_type=\"multi_label_classification\", \n",
        "                                                           num_labels=len(labels),\n",
        "                                                           id2label=id2label,\n",
        "                                                           label2id=label2id)"
      ],
      "metadata": {
        "id": "lA7hKaBUJ2yB",
        "colab": {
          "base_uri": "https://localhost:8080/",
          "height": 156,
          "referenced_widgets": [
            "48975d3118104bdf9283acf321ca66e2",
            "8aff1468a4364deb9ae0dc91b67f352d",
            "008c2215bcd04f32a048efa0caaf6483",
            "b450ef2d2336488482a30146f0202279",
            "24c8d29ce62a4a76a22288236dd733e3",
            "4e977c19bb6841c2a49d1429e6ef2757",
            "cb891f6729374c44bb0351ac08fb8c05",
            "265531c269f24540a15c72abf0c9a16a",
            "02133c1d2a7b425b964f08bc5c0bb33f",
            "d67947f6ef8442e8804ab7a139e36d5a",
            "1fcc451fac7045888da74dbb6bdfeda1"
          ]
        },
        "outputId": "0200c720-11c4-44ad-f2ef-7240e7cd4c94"
      },
      "execution_count": null,
      "outputs": [
        {
          "output_type": "display_data",
          "data": {
            "text/plain": [
              "Downloading:   0%|          | 0.00/420M [00:00<?, ?B/s]"
            ],
            "application/vnd.jupyter.widget-view+json": {
              "version_major": 2,
              "version_minor": 0,
              "model_id": "48975d3118104bdf9283acf321ca66e2"
            }
          },
          "metadata": {}
        },
        {
          "output_type": "stream",
          "name": "stderr",
          "text": [
            "Some weights of the model checkpoint at bert-base-uncased were not used when initializing BertForSequenceClassification: ['cls.predictions.transform.LayerNorm.weight', 'cls.predictions.transform.dense.bias', 'cls.seq_relationship.weight', 'cls.predictions.transform.dense.weight', 'cls.predictions.decoder.weight', 'cls.predictions.bias', 'cls.seq_relationship.bias', 'cls.predictions.transform.LayerNorm.bias']\n",
            "- This IS expected if you are initializing BertForSequenceClassification from the checkpoint of a model trained on another task or with another architecture (e.g. initializing a BertForSequenceClassification model from a BertForPreTraining model).\n",
            "- This IS NOT expected if you are initializing BertForSequenceClassification from the checkpoint of a model that you expect to be exactly identical (initializing a BertForSequenceClassification model from a BertForSequenceClassification model).\n",
            "Some weights of BertForSequenceClassification were not initialized from the model checkpoint at bert-base-uncased and are newly initialized: ['classifier.weight', 'classifier.bias']\n",
            "You should probably TRAIN this model on a down-stream task to be able to use it for predictions and inference.\n"
          ]
        }
      ]
    },
    {
      "cell_type": "code",
      "source": [
        "batch_size = 8\n",
        "metric_name = \"f1\""
      ],
      "metadata": {
        "id": "haGbRxKcJ21B"
      },
      "execution_count": null,
      "outputs": []
    },
    {
      "cell_type": "code",
      "source": [
        "args = TrainingArguments(\n",
        "    f\"bert-finetuned-sem_eval-english\",\n",
        "    evaluation_strategy = \"epoch\",\n",
        "    save_strategy = \"epoch\",\n",
        "    learning_rate=2e-5,\n",
        "    per_device_train_batch_size=batch_size,\n",
        "    per_device_eval_batch_size=batch_size,\n",
        "    num_train_epochs=5,\n",
        "    weight_decay=0.01,\n",
        "    load_best_model_at_end=True,\n",
        "    metric_for_best_model=metric_name,\n",
        "    #push_to_hub=True,\n",
        ")"
      ],
      "metadata": {
        "id": "ECAfzY4NJ23y"
      },
      "execution_count": null,
      "outputs": []
    },
    {
      "cell_type": "code",
      "source": [
        "# source: https://jesusleal.io/2021/04/21/Longformer-multilabel-classification/\n",
        "def multi_label_metrics(predictions, labels, threshold=0.5):\n",
        "    # first, apply sigmoid on predictions which are of shape (batch_size, num_labels)\n",
        "    sigmoid = torch.nn.Sigmoid()\n",
        "    probs = sigmoid(torch.Tensor(predictions))\n",
        "    # next, use threshold to turn them into integer predictions\n",
        "    y_pred = np.zeros(probs.shape)\n",
        "    y_pred[np.where(probs >= threshold)] = 1\n",
        "    # finally, compute metrics\n",
        "    y_true = labels\n",
        "    f1_micro_average = f1_score(y_true=y_true, y_pred=y_pred, average='micro')\n",
        "    roc_auc = roc_auc_score(y_true, y_pred, average = 'micro')\n",
        "    accuracy = accuracy_score(y_true, y_pred)\n",
        "    # return as dictionary\n",
        "    metrics = {'f1': f1_micro_average,\n",
        "               'roc_auc': roc_auc,\n",
        "               'accuracy': accuracy}\n",
        "    return metrics\n",
        "\n",
        "def compute_metrics(p: EvalPrediction):\n",
        "    preds = p.predictions[0] if isinstance(p.predictions, \n",
        "            tuple) else p.predictions\n",
        "    result = multi_label_metrics(\n",
        "        predictions=preds, \n",
        "        labels=p.label_ids)\n",
        "    return result"
      ],
      "metadata": {
        "id": "XCSJy3UlJ26-"
      },
      "execution_count": null,
      "outputs": []
    },
    {
      "cell_type": "code",
      "source": [
        "encoded_dataset['train'][0]['labels'].type()"
      ],
      "metadata": {
        "colab": {
          "base_uri": "https://localhost:8080/",
          "height": 36
        },
        "id": "Pc5lYMCFJ29e",
        "outputId": "7c02bd86-3d80-4e04-d9f0-ad0627ca1c0e"
      },
      "execution_count": null,
      "outputs": [
        {
          "output_type": "execute_result",
          "data": {
            "text/plain": [
              "'torch.FloatTensor'"
            ],
            "application/vnd.google.colaboratory.intrinsic+json": {
              "type": "string"
            }
          },
          "metadata": {},
          "execution_count": 46
        }
      ]
    },
    {
      "cell_type": "code",
      "source": [
        "outputs = model(input_ids=encoded_dataset['train']['input_ids'][0].unsqueeze(0), labels=encoded_dataset['train'][0]['labels'].unsqueeze(0))\n",
        "outputs"
      ],
      "metadata": {
        "colab": {
          "base_uri": "https://localhost:8080/"
        },
        "id": "cG1Gy-kwKF4-",
        "outputId": "3f78a966-ed0f-4ce9-caa5-207cc126eb6d"
      },
      "execution_count": null,
      "outputs": [
        {
          "output_type": "execute_result",
          "data": {
            "text/plain": [
              "SequenceClassifierOutput([('loss',\n",
              "                           tensor(0.6469, grad_fn=<BinaryCrossEntropyWithLogitsBackward0>)),\n",
              "                          ('logits',\n",
              "                           tensor([[ 0.3353,  0.3228, -0.3494]], grad_fn=<AddmmBackward0>))])"
            ]
          },
          "metadata": {},
          "execution_count": 47
        }
      ]
    },
    {
      "cell_type": "code",
      "source": [
        "trainer = Trainer(\n",
        "    model,\n",
        "    args,\n",
        "    train_dataset=encoded_dataset[\"train\"],\n",
        "    eval_dataset=encoded_dataset[\"validation\"],\n",
        "    tokenizer=tokenizer,\n",
        "    compute_metrics=compute_metrics\n",
        ")"
      ],
      "metadata": {
        "id": "WT5FhBEaKF7y"
      },
      "execution_count": null,
      "outputs": []
    },
    {
      "cell_type": "markdown",
      "source": [
        "### Results using PorterStemmer"
      ],
      "metadata": {
        "id": "h7Si7IAEjK33"
      }
    },
    {
      "cell_type": "code",
      "source": [
        "trainer.train()"
      ],
      "metadata": {
        "colab": {
          "base_uri": "https://localhost:8080/",
          "height": 932
        },
        "id": "iOW__T2eKWqu",
        "outputId": "f3349de0-d685-416c-98fc-3a83ee7919d1"
      },
      "execution_count": null,
      "outputs": [
        {
          "output_type": "stream",
          "name": "stderr",
          "text": [
            "/usr/local/lib/python3.7/dist-packages/transformers/optimization.py:310: FutureWarning: This implementation of AdamW is deprecated and will be removed in a future version. Use the PyTorch implementation torch.optim.AdamW instead, or set `no_deprecation_warning=True` to disable this warning\n",
            "  FutureWarning,\n",
            "***** Running training *****\n",
            "  Num examples = 32884\n",
            "  Num Epochs = 5\n",
            "  Instantaneous batch size per device = 8\n",
            "  Total train batch size (w. parallel, distributed & accumulation) = 8\n",
            "  Gradient Accumulation steps = 1\n",
            "  Total optimization steps = 20555\n"
          ]
        },
        {
          "output_type": "display_data",
          "data": {
            "text/plain": [
              "<IPython.core.display.HTML object>"
            ],
            "text/html": [
              "\n",
              "    <div>\n",
              "      \n",
              "      <progress value='20369' max='20555' style='width:300px; height:20px; vertical-align: middle;'></progress>\n",
              "      [20369/20555 3:34:46 < 01:57, 1.58 it/s, Epoch 4.95/5]\n",
              "    </div>\n",
              "    <table border=\"1\" class=\"dataframe\">\n",
              "  <thead>\n",
              " <tr style=\"text-align: left;\">\n",
              "      <th>Epoch</th>\n",
              "      <th>Training Loss</th>\n",
              "      <th>Validation Loss</th>\n",
              "      <th>F1</th>\n",
              "      <th>Roc Auc</th>\n",
              "      <th>Accuracy</th>\n",
              "    </tr>\n",
              "  </thead>\n",
              "  <tbody>\n",
              "    <tr>\n",
              "      <td>1</td>\n",
              "      <td>0.325500</td>\n",
              "      <td>0.336060</td>\n",
              "      <td>0.851499</td>\n",
              "      <td>0.855091</td>\n",
              "      <td>0.654787</td>\n",
              "    </tr>\n",
              "    <tr>\n",
              "      <td>2</td>\n",
              "      <td>0.314500</td>\n",
              "      <td>0.328556</td>\n",
              "      <td>0.854747</td>\n",
              "      <td>0.855701</td>\n",
              "      <td>0.647123</td>\n",
              "    </tr>\n",
              "    <tr>\n",
              "      <td>3</td>\n",
              "      <td>0.289800</td>\n",
              "      <td>0.325558</td>\n",
              "      <td>0.857285</td>\n",
              "      <td>0.860188</td>\n",
              "      <td>0.653327</td>\n",
              "    </tr>\n",
              "    <tr>\n",
              "      <td>4</td>\n",
              "      <td>0.246700</td>\n",
              "      <td>0.354014</td>\n",
              "      <td>0.846390</td>\n",
              "      <td>0.853336</td>\n",
              "      <td>0.643839</td>\n",
              "    </tr>\n",
              "  </tbody>\n",
              "</table><p>"
            ]
          },
          "metadata": {}
        },
        {
          "output_type": "stream",
          "name": "stderr",
          "text": [
            "***** Running Evaluation *****\n",
            "  Num examples = 8221\n",
            "  Batch size = 8\n",
            "Saving model checkpoint to bert-finetuned-sem_eval-english/checkpoint-4111\n",
            "Configuration saved in bert-finetuned-sem_eval-english/checkpoint-4111/config.json\n",
            "Model weights saved in bert-finetuned-sem_eval-english/checkpoint-4111/pytorch_model.bin\n",
            "tokenizer config file saved in bert-finetuned-sem_eval-english/checkpoint-4111/tokenizer_config.json\n",
            "Special tokens file saved in bert-finetuned-sem_eval-english/checkpoint-4111/special_tokens_map.json\n",
            "***** Running Evaluation *****\n",
            "  Num examples = 8221\n",
            "  Batch size = 8\n",
            "Saving model checkpoint to bert-finetuned-sem_eval-english/checkpoint-8222\n",
            "Configuration saved in bert-finetuned-sem_eval-english/checkpoint-8222/config.json\n",
            "Model weights saved in bert-finetuned-sem_eval-english/checkpoint-8222/pytorch_model.bin\n",
            "tokenizer config file saved in bert-finetuned-sem_eval-english/checkpoint-8222/tokenizer_config.json\n",
            "Special tokens file saved in bert-finetuned-sem_eval-english/checkpoint-8222/special_tokens_map.json\n",
            "***** Running Evaluation *****\n",
            "  Num examples = 8221\n",
            "  Batch size = 8\n",
            "Saving model checkpoint to bert-finetuned-sem_eval-english/checkpoint-12333\n",
            "Configuration saved in bert-finetuned-sem_eval-english/checkpoint-12333/config.json\n",
            "Model weights saved in bert-finetuned-sem_eval-english/checkpoint-12333/pytorch_model.bin\n",
            "tokenizer config file saved in bert-finetuned-sem_eval-english/checkpoint-12333/tokenizer_config.json\n",
            "Special tokens file saved in bert-finetuned-sem_eval-english/checkpoint-12333/special_tokens_map.json\n",
            "***** Running Evaluation *****\n",
            "  Num examples = 8221\n",
            "  Batch size = 8\n",
            "Saving model checkpoint to bert-finetuned-sem_eval-english/checkpoint-16444\n",
            "Configuration saved in bert-finetuned-sem_eval-english/checkpoint-16444/config.json\n",
            "Model weights saved in bert-finetuned-sem_eval-english/checkpoint-16444/pytorch_model.bin\n",
            "tokenizer config file saved in bert-finetuned-sem_eval-english/checkpoint-16444/tokenizer_config.json\n",
            "Special tokens file saved in bert-finetuned-sem_eval-english/checkpoint-16444/special_tokens_map.json\n"
          ]
        }
      ]
    },
    {
      "cell_type": "code",
      "source": [
        "text = \"\"\"\n",
        "Graph neural networks (GNNs) have been widely used to learn vector\\nrepresentation of graph-structured data and achieved better task performance\\nthan conventional methods. The foundation of GNNs is the message passing\\nprocedure, which propagates the information in a node to its neighbors. Since\\nthis procedure proceeds one step per layer, the range of the information\\npropagation among nodes is small in the lower layers, and it expands toward the\\nhigher layers. Therefore, a GNN model has to be deep enough to capture global\\nstructural information in a graph. On the other hand, it is known that deep GNN\\nmodels suffer from performance degradation because they lose nodes' local\\ninformation, which would be essential for good model performance, through many\\nmessage passing steps. In this study, we propose multi-level attention pooling\\n(MLAP) for graph-level classification tasks, which can adapt to both local and\\nglobal structural information in a graph. It has an attention pooling layer for\\neach message passing step and computes the final graph representation by\\nunifying the layer-wise graph representations. The MLAP architecture allows\\nmodels to utilize the structural information of graphs with multiple levels of\\nlocalities because it preserves layer-wise information before losing them due\\nto oversmoothing. Results of our experiments show that the MLAP architecture\\nimproves the graph classification performance compared to the baseline\\narchitectures. In addition, analyses on the layer-wise graph representations\\nsuggest that aggregating information from multiple levels of localities indeed\\nhas the potential to improve the discriminability of learned graph\\nrepresentations.\n",
        "\"\"\"\n",
        "text = ' '.join(list(map(stem_word,word_tokenize(text))))\n",
        "\n",
        "encoding = tokenizer(text, return_tensors=\"pt\")\n",
        "encoding = {k: v.to(trainer.model.device) for k,v in encoding.items()}\n",
        "\n",
        "outputs = trainer.model(**encoding)"
      ],
      "metadata": {
        "id": "9sFJevHhNMXj"
      },
      "execution_count": null,
      "outputs": []
    },
    {
      "cell_type": "code",
      "source": [
        "logits = outputs.logits"
      ],
      "metadata": {
        "id": "tNqcJVYWKYmO"
      },
      "execution_count": null,
      "outputs": []
    },
    {
      "cell_type": "code",
      "source": [
        "sigmoid = torch.nn.Sigmoid()\n",
        "probs = sigmoid(logits.squeeze().cpu())\n",
        "predictions = np.zeros(probs.shape)\n",
        "predictions[np.where(probs >= 0.5)] = 1\n",
        "# turn predicted id's into actual label names\n",
        "predicted_labels = [id2label[idx] for idx, label in enumerate(predictions) if label == 1.0]\n",
        "print(predicted_labels)"
      ],
      "metadata": {
        "id": "zzmSWK_7KYo5"
      },
      "execution_count": null,
      "outputs": []
    },
    {
      "cell_type": "markdown",
      "source": [
        "### Results without Stemming"
      ],
      "metadata": {
        "id": "JjWiAU_fjY4m"
      }
    },
    {
      "cell_type": "code",
      "source": [
        "trainer.train()"
      ],
      "metadata": {
        "colab": {
          "base_uri": "https://localhost:8080/",
          "height": 883
        },
        "outputId": "1f44f49c-c5bd-41ed-dd97-205bb3dd3b44",
        "id": "NPQPxIc5j6Bv"
      },
      "execution_count": null,
      "outputs": [
        {
          "metadata": {
            "tags": null
          },
          "name": "stderr",
          "output_type": "stream",
          "text": [
            "/usr/local/lib/python3.7/dist-packages/transformers/optimization.py:310: FutureWarning: This implementation of AdamW is deprecated and will be removed in a future version. Use the PyTorch implementation torch.optim.AdamW instead, or set `no_deprecation_warning=True` to disable this warning\n",
            "  FutureWarning,\n",
            "***** Running training *****\n",
            "  Num examples = 30000\n",
            "  Num Epochs = 5\n",
            "  Instantaneous batch size per device = 8\n",
            "  Total train batch size (w. parallel, distributed & accumulation) = 8\n",
            "  Gradient Accumulation steps = 1\n",
            "  Total optimization steps = 18750\n"
          ]
        },
        {
          "data": {
            "text/html": [
              "\n",
              "    <div>\n",
              "      \n",
              "      <progress value='8286' max='18750' style='width:300px; height:20px; vertical-align: middle;'></progress>\n",
              "      [ 8286/18750 2:02:50 < 2:35:10, 1.12 it/s, Epoch 2.21/5]\n",
              "    </div>\n",
              "    <table border=\"1\" class=\"dataframe\">\n",
              "  <thead>\n",
              " <tr style=\"text-align: left;\">\n",
              "      <th>Epoch</th>\n",
              "      <th>Training Loss</th>\n",
              "      <th>Validation Loss</th>\n",
              "      <th>F1</th>\n",
              "      <th>Roc Auc</th>\n",
              "      <th>Accuracy</th>\n",
              "    </tr>\n",
              "  </thead>\n",
              "  <tbody>\n",
              "    <tr>\n",
              "      <td>1</td>\n",
              "      <td>0.314900</td>\n",
              "      <td>0.305184</td>\n",
              "      <td>0.863326</td>\n",
              "      <td>0.873879</td>\n",
              "      <td>0.707159</td>\n",
              "    </tr>\n",
              "    <tr>\n",
              "      <td>2</td>\n",
              "      <td>0.295000</td>\n",
              "      <td>0.317291</td>\n",
              "      <td>0.862862</td>\n",
              "      <td>0.873542</td>\n",
              "      <td>0.701666</td>\n",
              "    </tr>\n",
              "  </tbody>\n",
              "</table><p>"
            ],
            "text/plain": [
              "<IPython.core.display.HTML object>"
            ]
          },
          "metadata": {},
          "output_type": "display_data"
        },
        {
          "metadata": {
            "tags": null
          },
          "name": "stderr",
          "output_type": "stream",
          "text": [
            "***** Running Evaluation *****\n",
            "  Num examples = 11105\n",
            "  Batch size = 8\n",
            "Saving model checkpoint to bert-finetuned-sem_eval-english/checkpoint-3750\n",
            "Configuration saved in bert-finetuned-sem_eval-english/checkpoint-3750/config.json\n",
            "Model weights saved in bert-finetuned-sem_eval-english/checkpoint-3750/pytorch_model.bin\n",
            "tokenizer config file saved in bert-finetuned-sem_eval-english/checkpoint-3750/tokenizer_config.json\n",
            "Special tokens file saved in bert-finetuned-sem_eval-english/checkpoint-3750/special_tokens_map.json\n",
            "***** Running Evaluation *****\n",
            "  Num examples = 11105\n",
            "  Batch size = 8\n",
            "Saving model checkpoint to bert-finetuned-sem_eval-english/checkpoint-7500\n",
            "Configuration saved in bert-finetuned-sem_eval-english/checkpoint-7500/config.json\n",
            "Model weights saved in bert-finetuned-sem_eval-english/checkpoint-7500/pytorch_model.bin\n",
            "tokenizer config file saved in bert-finetuned-sem_eval-english/checkpoint-7500/tokenizer_config.json\n",
            "Special tokens file saved in bert-finetuned-sem_eval-english/checkpoint-7500/special_tokens_map.json\n"
          ]
        },
        {
          "output_type": "display_data",
          "data": {
            "text/plain": [
              "<IPython.core.display.HTML object>"
            ],
            "text/html": [
              "\n",
              "    <div>\n",
              "      \n",
              "      <progress value='12936' max='18750' style='width:300px; height:20px; vertical-align: middle;'></progress>\n",
              "      [12936/18750 3:10:55 < 1:25:49, 1.13 it/s, Epoch 3.45/5]\n",
              "    </div>\n",
              "    <table border=\"1\" class=\"dataframe\">\n",
              "  <thead>\n",
              " <tr style=\"text-align: left;\">\n",
              "      <th>Epoch</th>\n",
              "      <th>Training Loss</th>\n",
              "      <th>Validation Loss</th>\n",
              "      <th>F1</th>\n",
              "      <th>Roc Auc</th>\n",
              "      <th>Accuracy</th>\n",
              "    </tr>\n",
              "  </thead>\n",
              "  <tbody>\n",
              "    <tr>\n",
              "      <td>1</td>\n",
              "      <td>0.314900</td>\n",
              "      <td>0.305184</td>\n",
              "      <td>0.863326</td>\n",
              "      <td>0.873879</td>\n",
              "      <td>0.707159</td>\n",
              "    </tr>\n",
              "    <tr>\n",
              "      <td>2</td>\n",
              "      <td>0.295000</td>\n",
              "      <td>0.317291</td>\n",
              "      <td>0.862862</td>\n",
              "      <td>0.873542</td>\n",
              "      <td>0.701666</td>\n",
              "    </tr>\n",
              "    <tr>\n",
              "      <td>3</td>\n",
              "      <td>0.264700</td>\n",
              "      <td>0.330243</td>\n",
              "      <td>0.862609</td>\n",
              "      <td>0.873035</td>\n",
              "      <td>0.694102</td>\n",
              "    </tr>\n",
              "  </tbody>\n",
              "</table><p>"
            ]
          },
          "metadata": {}
        },
        {
          "output_type": "stream",
          "name": "stderr",
          "text": [
            "***** Running Evaluation *****\n",
            "  Num examples = 11105\n",
            "  Batch size = 8\n",
            "Saving model checkpoint to bert-finetuned-sem_eval-english/checkpoint-11250\n",
            "Configuration saved in bert-finetuned-sem_eval-english/checkpoint-11250/config.json\n",
            "Model weights saved in bert-finetuned-sem_eval-english/checkpoint-11250/pytorch_model.bin\n",
            "tokenizer config file saved in bert-finetuned-sem_eval-english/checkpoint-11250/tokenizer_config.json\n",
            "Special tokens file saved in bert-finetuned-sem_eval-english/checkpoint-11250/special_tokens_map.json\n"
          ]
        }
      ]
    },
    {
      "cell_type": "markdown",
      "source": [
        "## Using Two Input Features \"Abtracts\" and \"titles\""
      ],
      "metadata": {
        "id": "I4u1mKydpw95"
      }
    },
    {
      "cell_type": "code",
      "source": [
        "def plot_confusion_matrix(cm, classes, title='Confusion matrix', cmap=plt.cm.Blues):\n",
        "\n",
        "    cm = cm.astype('float') / cm.sum(axis=1)[:, np.newaxis]\n",
        "\n",
        "    plt.imshow(cm, interpolation='nearest', cmap=cmap)\n",
        "    plt.title(title, fontsize=25)\n",
        "    #plt.colorbar()\n",
        "    tick_marks = np.arange(len(classes))\n",
        "    plt.xticks(tick_marks, classes, rotation=90, fontsize=15)\n",
        "    plt.yticks(tick_marks, classes, fontsize=15)\n",
        "\n",
        "    fmt = '.2f'\n",
        "    thresh = cm.max() / 2.\n",
        "    for i, j in itertools.product(range(cm.shape[0]), range(cm.shape[1])):\n",
        "        plt.text(j, i, format(cm[i, j], fmt),\n",
        "                 horizontalalignment=\"center\",\n",
        "                 color=\"white\" if cm[i, j] > thresh else \"black\", fontsize = 14)\n",
        "\n",
        "    plt.ylabel('True label', fontsize=20)\n",
        "    plt.xlabel('Predicted label', fontsize=20)"
      ],
      "metadata": {
        "id": "zqLAZFADXPHP"
      },
      "execution_count": null,
      "outputs": []
    },
    {
      "cell_type": "code",
      "source": [
        "def set_seed(seed):\n",
        "    \n",
        "    tf.random.set_seed(seed)\n",
        "    os.environ['PYTHONHASHSEED'] = str(seed)\n",
        "    np.random.seed(seed)\n",
        "    random.seed(seed)\n",
        "    \n",
        "\n",
        "def convert_to_transformer_inputs(str1, str2, tokenizer, max_sequence_length, double=True):\n",
        "    \n",
        "    def return_id(str1, str2, truncation_strategy, length):\n",
        "\n",
        "        inputs = tokenizer.encode_plus(str1, str2,\n",
        "            add_special_tokens=True,\n",
        "            max_length=length,\n",
        "            truncation_strategy=truncation_strategy)\n",
        "        \n",
        "        input_ids =  inputs[\"input_ids\"]\n",
        "        input_masks = [1] * len(input_ids)\n",
        "        input_segments = inputs[\"token_type_ids\"]\n",
        "        \n",
        "        padding_length = length - len(input_ids)\n",
        "        padding_id = tokenizer.pad_token_id\n",
        "        \n",
        "        input_ids = input_ids + ([padding_id] * padding_length)\n",
        "        input_masks = input_masks + ([0] * padding_length)\n",
        "        input_segments = input_segments + ([0] * padding_length)\n",
        "        \n",
        "        return [input_ids, input_masks, input_segments]\n",
        "    \n",
        "    if double:\n",
        "    \n",
        "        input_ids_1, input_masks_1, input_segments_1 = return_id(\n",
        "            str1, None, 'longest_first', max_sequence_length)\n",
        "\n",
        "        input_ids_2, input_masks_2, input_segments_2 = return_id(\n",
        "            str2, None, 'longest_first', max_sequence_length)\n",
        "\n",
        "        return [input_ids_1, input_masks_1, input_segments_1,\n",
        "                input_ids_2, input_masks_2, input_segments_2]\n",
        "    \n",
        "    else:\n",
        "        \n",
        "        input_ids, input_masks, input_segments = return_id(\n",
        "            str1, str2, 'longest_first', max_sequence_length)\n",
        "\n",
        "        return [input_ids, input_masks, input_segments,\n",
        "                None, None, None]        \n",
        "\n",
        "def compute_input_arrays(df, columns, tokenizer, max_sequence_length, double=True):\n",
        "    \n",
        "    input_ids_1, input_masks_1, input_segments_1 = [], [], []\n",
        "    input_ids_2, input_masks_2, input_segments_2 = [], [], []\n",
        "    for _, instance in tqdm(df[columns].iterrows(), total=len(df)):\n",
        "        str1, str2 = instance[columns[0]], instance[columns[1]]\n",
        "\n",
        "        ids_1, masks_1, segments_1, ids_2, masks_2, segments_2 = \\\n",
        "        convert_to_transformer_inputs(str1, str2, tokenizer, max_sequence_length, double=double)\n",
        "        \n",
        "        input_ids_1.append(ids_1)\n",
        "        input_masks_1.append(masks_1)\n",
        "        input_segments_1.append(segments_1)\n",
        "\n",
        "        input_ids_2.append(ids_2)\n",
        "        input_masks_2.append(masks_2)\n",
        "        input_segments_2.append(segments_2)\n",
        "        \n",
        "    if double:\n",
        "        \n",
        "        return [np.asarray(input_ids_1, dtype=np.int32), \n",
        "                np.asarray(input_masks_1, dtype=np.int32), \n",
        "                np.asarray(input_segments_1, dtype=np.int32),\n",
        "                np.asarray(input_ids_2, dtype=np.int32), \n",
        "                np.asarray(input_masks_2, dtype=np.int32), \n",
        "                np.asarray(input_segments_2, dtype=np.int32)]\n",
        "    \n",
        "    else:\n",
        "        \n",
        "        return [np.asarray(input_ids_1, dtype=np.int32), \n",
        "                np.asarray(input_masks_1, dtype=np.int32), \n",
        "                np.asarray(input_segments_1, dtype=np.int32)]"
      ],
      "metadata": {
        "id": "qTNsp3RFXTOA"
      },
      "execution_count": null,
      "outputs": []
    },
    {
      "cell_type": "code",
      "source": [
        "X_train, X_test, y_train, y_test = train_test_split(df_1,  pd.DataFrame(dic_).values, \n",
        "                                                    random_state=33, test_size = 0.2)\n",
        "\n",
        "print(X_train.shape, X_test.shape)\n",
        "print(y_train.shape, y_test.shape)"
      ],
      "metadata": {
        "colab": {
          "base_uri": "https://localhost:8080/"
        },
        "id": "4sQug9jWXamH",
        "outputId": "2e14ed15-158b-49ae-91fe-1705512d939d"
      },
      "execution_count": null,
      "outputs": [
        {
          "output_type": "stream",
          "name": "stdout",
          "text": [
            "(32884, 2) (8221, 2)\n",
            "(32884, 3) (8221, 3)\n"
          ]
        }
      ]
    },
    {
      "cell_type": "code",
      "source": [
        "MAX_SEQUENCE_LENGTH = 512\n",
        "\n",
        "tokenizer = AutoTokenizer.from_pretrained(\"bert-base-uncased\")"
      ],
      "metadata": {
        "id": "0ooteM6IY7gA"
      },
      "execution_count": null,
      "outputs": []
    },
    {
      "cell_type": "code",
      "source": [
        "def compute_input_train_test(mode = 'dual'):\n",
        "  if mode != 'dual':\n",
        "    x = False\n",
        "  else:\n",
        "    x = True\n",
        "  input_train = compute_input_arrays(X_train, featuers_columns, tokenizer, MAX_SEQUENCE_LENGTH, double=x)\n",
        "  input_test = compute_input_arrays(X_test, featuers_columns, tokenizer, MAX_SEQUENCE_LENGTH, double=x)\n",
        "  return input_train,input_test"
      ],
      "metadata": {
        "id": "oBlI8v4OY8y2"
      },
      "execution_count": null,
      "outputs": []
    },
    {
      "cell_type": "code",
      "source": [
        "def plot_cs_for_label(map_label,index):\n",
        "  cnf_matrix = confusion_matrix([map_label for i in y_test.T[index]], \n",
        "                              [map_label for i in pred_test[index].flatten()])\n",
        "\n",
        "  plt.figure(figsize=(7,7))\n",
        "  plot_confusion_matrix(cnf_matrix, classes=list(map_label.values()))\n",
        "  plt.show()"
      ],
      "metadata": {
        "id": "GB3O0Vr8Hf1G"
      },
      "execution_count": null,
      "outputs": []
    },
    {
      "cell_type": "markdown",
      "source": [
        "### Concatentate Two Features"
      ],
      "metadata": {
        "id": "IOO-54m8fe0V"
      }
    },
    {
      "cell_type": "code",
      "source": [
        "def simple_bert(type_):\n",
        "    \n",
        "    set_seed(33)\n",
        "    \n",
        "    opt = Adam(learning_rate=2e-5)\n",
        "    \n",
        "    id_ = Input((MAX_SEQUENCE_LENGTH,), dtype=tf.int32)\n",
        "    mask_ = Input((MAX_SEQUENCE_LENGTH,), dtype=tf.int32)\n",
        "    atn_ = Input((MAX_SEQUENCE_LENGTH,), dtype=tf.int32)\n",
        "    \n",
        "    config = BertConfig()\n",
        "    config.output_hidden_states = False # Set to True to obtain hidden states\n",
        "    bert_model = TFBertModel.from_pretrained('bert-base-uncased', config=config)\n",
        "    \n",
        "    embedding = bert_model(id_, attention_mask=mask_, token_type_ids=atn_)[0]\n",
        "    if type_ == 'GlobalAveragePooling1D':\n",
        "      x = GlobalAveragePooling1D()(embedding)\n",
        "    elif type_ == 'Flatten':\n",
        "      x = Flatten()(embedding) \n",
        "    x = Dropout(0.2)(x)\n",
        "    out_CV = Dense(1, activation='sigmoid',name = 'out_CV')(x)\n",
        "    out_LG = Dense(1, activation='sigmoid',name = 'out_LG')(x)\n",
        "    out_ML = Dense(1, activation='sigmoid',name = 'out_ML')(x)\n",
        "\n",
        "    model = Model(inputs=[id_, mask_, atn_], outputs=[out_CV,out_LG,out_ML])\n",
        "    model.compile(loss='binary_crossentropy', optimizer=opt)\n",
        "    model.compile(optimizer=opt,\n",
        "                  loss={'out_CV': 'binary_crossentropy', 'out_LG': 'binary_crossentropy'\n",
        "                        ,'out_ML':'binary_crossentropy'},\n",
        "                  metrics={'out_CV': tf.keras.metrics.Accuracy(),\n",
        "                          'out_LG': tf.keras.metrics.Accuracy(),\n",
        "                          'out_ML': tf.keras.metrics.Accuracy()})\n",
        "    \n",
        "    return model"
      ],
      "metadata": {
        "id": "RLWrcNchZWMX"
      },
      "execution_count": null,
      "outputs": []
    },
    {
      "cell_type": "code",
      "source": [
        "input_train,input_test = compute_input_train_test('single')"
      ],
      "metadata": {
        "id": "Yp_LmEsii8Kn"
      },
      "execution_count": null,
      "outputs": []
    },
    {
      "cell_type": "markdown",
      "source": [
        "####using GlobalAveragePooling1D"
      ],
      "metadata": {
        "id": "y1-3HikR9zJk"
      }
    },
    {
      "cell_type": "code",
      "source": [
        "model = simple_bert('GlobalAveragePooling1D')"
      ],
      "metadata": {
        "id": "5mPRc9g39yRk"
      },
      "execution_count": null,
      "outputs": []
    },
    {
      "cell_type": "code",
      "source": [
        "model.fit(input_train, y = (y_train.T[0],y_train.T[1],y_train.T[2]), epochs=5, batch_size=6)"
      ],
      "metadata": {
        "id": "UXk_IXqZZ3Gi",
        "colab": {
          "base_uri": "https://localhost:8080/"
        },
        "outputId": "82de8213-17a5-435f-818c-d78c85403476"
      },
      "execution_count": null,
      "outputs": [
        {
          "output_type": "stream",
          "name": "stdout",
          "text": [
            "Epoch 1/5\n",
            "WARNING:tensorflow:Gradients do not exist for variables ['tf_bert_model/bert/pooler/dense/kernel:0', 'tf_bert_model/bert/pooler/dense/bias:0'] when minimizing the loss. If you're using `model.compile()`, did you forget to provide a `loss`argument?\n",
            "WARNING:tensorflow:Gradients do not exist for variables ['tf_bert_model/bert/pooler/dense/kernel:0', 'tf_bert_model/bert/pooler/dense/bias:0'] when minimizing the loss. If you're using `model.compile()`, did you forget to provide a `loss`argument?\n",
            "5481/5481 [==============================] - 4178s 758ms/step - loss: 0.9958 - out_CV_loss: 0.2073 - out_LG_loss: 0.3669 - out_ML_loss: 0.4217 - out_CV_accuracy: 0.0000e+00 - out_LG_accuracy: 0.0000e+00 - out_ML_accuracy: 0.0000e+00\n",
            "Epoch 2/5\n",
            "5481/5481 [==============================] - 4157s 758ms/step - loss: 0.8620 - out_CV_loss: 0.1554 - out_LG_loss: 0.3198 - out_ML_loss: 0.3868 - out_CV_accuracy: 0.0000e+00 - out_LG_accuracy: 0.0000e+00 - out_ML_accuracy: 0.0000e+00\n",
            "Epoch 3/5\n",
            "5481/5481 [==============================] - 4158s 759ms/step - loss: 0.7565 - out_CV_loss: 0.1164 - out_LG_loss: 0.2850 - out_ML_loss: 0.3551 - out_CV_accuracy: 0.0000e+00 - out_LG_accuracy: 0.0000e+00 - out_ML_accuracy: 0.0000e+00\n",
            "Epoch 4/5\n",
            "5481/5481 [==============================] - 4159s 759ms/step - loss: 0.6459 - out_CV_loss: 0.0860 - out_LG_loss: 0.2453 - out_ML_loss: 0.3146 - out_CV_accuracy: 0.0000e+00 - out_LG_accuracy: 0.0000e+00 - out_ML_accuracy: 0.0000e+00\n",
            "Epoch 5/5\n",
            "5481/5481 [==============================] - 4158s 759ms/step - loss: 0.5183 - out_CV_loss: 0.0610 - out_LG_loss: 0.1927 - out_ML_loss: 0.2646 - out_CV_accuracy: 0.0000e+00 - out_LG_accuracy: 0.0000e+00 - out_ML_accuracy: 0.0000e+00\n"
          ]
        },
        {
          "output_type": "execute_result",
          "data": {
            "text/plain": [
              "<keras.callbacks.History at 0x7f7a2431efd0>"
            ]
          },
          "metadata": {},
          "execution_count": 25
        }
      ]
    },
    {
      "cell_type": "markdown",
      "source": [
        "##### Confusion Matrix"
      ],
      "metadata": {
        "id": "tTh8SD3gEwvD"
      }
    },
    {
      "cell_type": "code",
      "source": [
        "pred_test = np.round(model.predict(input_test))"
      ],
      "metadata": {
        "id": "8duzvYOA3QiK"
      },
      "execution_count": null,
      "outputs": []
    },
    {
      "cell_type": "code",
      "source": [
        "print(classification_report(y_test.T[0], pred_test[0].flatten()))\n",
        "sns.heatmap(confusion_matrix(y_test.T[0],pred_test[0].flatten()), annot=True,fmt='g')"
      ],
      "metadata": {
        "id": "hilOmNAn3Qwh",
        "colab": {
          "base_uri": "https://localhost:8080/",
          "height": 439
        },
        "outputId": "7b716067-fd99-4ed9-f302-8b6f116f1f97"
      },
      "execution_count": null,
      "outputs": [
        {
          "output_type": "stream",
          "name": "stdout",
          "text": [
            "              precision    recall  f1-score   support\n",
            "\n",
            "           0       0.91      0.92      0.92      3505\n",
            "           1       0.94      0.94      0.94      4716\n",
            "\n",
            "    accuracy                           0.93      8221\n",
            "   macro avg       0.93      0.93      0.93      8221\n",
            "weighted avg       0.93      0.93      0.93      8221\n",
            "\n"
          ]
        },
        {
          "output_type": "execute_result",
          "data": {
            "text/plain": [
              "<matplotlib.axes._subplots.AxesSubplot at 0x7f7a32406b50>"
            ]
          },
          "metadata": {},
          "execution_count": 27
        },
        {
          "output_type": "display_data",
          "data": {
            "text/plain": [
              "<Figure size 432x288 with 2 Axes>"
            ],
            "image/png": "[encoded data removed]"
          },
          "metadata": {
            "needs_background": "light"
          }
        }
      ]
    },
    {
      "cell_type": "code",
      "source": [
        "print(classification_report(y_test.T[1], pred_test[1].flatten()))\n",
        "sns.heatmap(confusion_matrix(y_test.T[1],pred_test[1].flatten()), annot=True,fmt='g')"
      ],
      "metadata": {
        "id": "syoOGRbs3Qze",
        "colab": {
          "base_uri": "https://localhost:8080/",
          "height": 439
        },
        "outputId": "8f9ceab0-22e3-4f42-eefe-42bb8bf4d256"
      },
      "execution_count": null,
      "outputs": [
        {
          "output_type": "stream",
          "name": "stdout",
          "text": [
            "              precision    recall  f1-score   support\n",
            "\n",
            "           0       0.81      0.82      0.82      3561\n",
            "           1       0.86      0.86      0.86      4660\n",
            "\n",
            "    accuracy                           0.84      8221\n",
            "   macro avg       0.84      0.84      0.84      8221\n",
            "weighted avg       0.84      0.84      0.84      8221\n",
            "\n"
          ]
        },
        {
          "output_type": "execute_result",
          "data": {
            "text/plain": [
              "<matplotlib.axes._subplots.AxesSubplot at 0x7f7a3298e650>"
            ]
          },
          "metadata": {},
          "execution_count": 28
        },
        {
          "output_type": "display_data",
          "data": {
            "text/plain": [
              "<Figure size 432x288 with 2 Axes>"
            ],
            "image/png": "[encoded data removed]"
          },
          "metadata": {
            "needs_background": "light"
          }
        }
      ]
    },
    {
      "cell_type": "code",
      "source": [
        "print(classification_report(y_test.T[2], pred_test[2].flatten()))\n",
        "sns.heatmap(confusion_matrix(y_test.T[2],pred_test[2].flatten()), annot=True,fmt='g')"
      ],
      "metadata": {
        "id": "tksYzdOV3Q2q",
        "colab": {
          "base_uri": "https://localhost:8080/",
          "height": 439
        },
        "outputId": "9e416083-5484-4813-e781-dac77d70fbdc"
      },
      "execution_count": null,
      "outputs": [
        {
          "output_type": "stream",
          "name": "stdout",
          "text": [
            "              precision    recall  f1-score   support\n",
            "\n",
            "           0       0.83      0.87      0.85      5587\n",
            "           1       0.70      0.61      0.65      2634\n",
            "\n",
            "    accuracy                           0.79      8221\n",
            "   macro avg       0.76      0.74      0.75      8221\n",
            "weighted avg       0.78      0.79      0.79      8221\n",
            "\n"
          ]
        },
        {
          "output_type": "execute_result",
          "data": {
            "text/plain": [
              "<matplotlib.axes._subplots.AxesSubplot at 0x7f7a322ba4d0>"
            ]
          },
          "metadata": {},
          "execution_count": 29
        },
        {
          "output_type": "display_data",
          "data": {
            "text/plain": [
              "<Figure size 432x288 with 2 Axes>"
            ],
            "image/png": "[encoded data removed]"
          },
          "metadata": {
            "needs_background": "light"
          }
        }
      ]
    },
    {
      "cell_type": "markdown",
      "source": [
        "####using Flatten"
      ],
      "metadata": {
        "id": "S1RRcrT899DM"
      }
    },
    {
      "cell_type": "code",
      "source": [
        "model = simple_bert('Flatten')"
      ],
      "metadata": {
        "id": "r5ESe4eEZKNd"
      },
      "execution_count": null,
      "outputs": []
    },
    {
      "cell_type": "code",
      "source": [
        "model.fit(input_train, y = (y_train.T[0],y_train.T[1],y_train.T[2]), epochs=5, batch_size=6)"
      ],
      "metadata": {
        "colab": {
          "base_uri": "https://localhost:8080/"
        },
        "outputId": "a981bcd9-dd1b-4560-a7d6-d35fe02d00d0",
        "id": "NY1I4BiA-F9F"
      },
      "execution_count": null,
      "outputs": [
        {
          "output_type": "stream",
          "name": "stdout",
          "text": [
            "Epoch 1/5\n",
            "WARNING:tensorflow:Gradients do not exist for variables ['tf_bert_model/bert/pooler/dense/kernel:0', 'tf_bert_model/bert/pooler/dense/bias:0'] when minimizing the loss. If you're using `model.compile()`, did you forget to provide a `loss`argument?\n",
            "WARNING:tensorflow:Gradients do not exist for variables ['tf_bert_model/bert/pooler/dense/kernel:0', 'tf_bert_model/bert/pooler/dense/bias:0'] when minimizing the loss. If you're using `model.compile()`, did you forget to provide a `loss`argument?\n",
            "5481/5481 [==============================] - 4349s 790ms/step - loss: 1.0372 - out_CV_loss: 0.2193 - out_LG_loss: 0.3818 - out_ML_loss: 0.4361 - out_CV_accuracy: 0.0000e+00 - out_LG_accuracy: 0.0000e+00 - out_ML_accuracy: 0.0000e+00\n",
            "Epoch 2/5\n",
            "5481/5481 [==============================] - 4331s 790ms/step - loss: 0.8009 - out_CV_loss: 0.1437 - out_LG_loss: 0.3002 - out_ML_loss: 0.3570 - out_CV_accuracy: 0.0000e+00 - out_LG_accuracy: 0.0000e+00 - out_ML_accuracy: 0.0000e+00\n",
            "Epoch 3/5\n",
            "5481/5481 [==============================] - 4332s 790ms/step - loss: 0.3678 - out_CV_loss: 0.0493 - out_LG_loss: 0.1400 - out_ML_loss: 0.1785 - out_CV_accuracy: 0.0000e+00 - out_LG_accuracy: 0.0000e+00 - out_ML_accuracy: 0.0000e+00\n",
            "Epoch 4/5\n",
            "5481/5481 [==============================] - 4336s 791ms/step - loss: 0.1410 - out_CV_loss: 0.0201 - out_LG_loss: 0.0526 - out_ML_loss: 0.0683 - out_CV_accuracy: 0.0016 - out_LG_accuracy: 0.0000e+00 - out_ML_accuracy: 0.0000e+00\n",
            "Epoch 5/5\n",
            "5481/5481 [==============================] - 4334s 791ms/step - loss: 0.0749 - out_CV_loss: 0.0140 - out_LG_loss: 0.0270 - out_ML_loss: 0.0340 - out_CV_accuracy: 0.0069 - out_LG_accuracy: 5.4738e-04 - out_ML_accuracy: 6.0820e-05\n"
          ]
        },
        {
          "output_type": "execute_result",
          "data": {
            "text/plain": [
              "<keras.callbacks.History at 0x7ff13a6548d0>"
            ]
          },
          "metadata": {},
          "execution_count": 33
        }
      ]
    },
    {
      "cell_type": "markdown",
      "source": [
        "###### Confusion Matrix "
      ],
      "metadata": {
        "id": "zKFBM7YiB2Kv"
      }
    },
    {
      "cell_type": "code",
      "source": [
        "pred_test = np.round(model.predict(input_test))"
      ],
      "metadata": {
        "id": "PiDBCAJoDBuU"
      },
      "execution_count": null,
      "outputs": []
    },
    {
      "cell_type": "code",
      "source": [
        "print(classification_report(y_test.T[0], pred_test[0].flatten()))\n",
        "sns.heatmap(confusion_matrix(y_test.T[0],pred_test[0].flatten()), annot=True,fmt='g')"
      ],
      "metadata": {
        "colab": {
          "base_uri": "https://localhost:8080/",
          "height": 439
        },
        "outputId": "27dfd151-8fc1-47ca-c31a-2159caa840a2",
        "id": "1lpVF4dNDBuU"
      },
      "execution_count": null,
      "outputs": [
        {
          "output_type": "stream",
          "name": "stdout",
          "text": [
            "              precision    recall  f1-score   support\n",
            "\n",
            "           0       0.90      0.95      0.92      3505\n",
            "           1       0.96      0.92      0.94      4716\n",
            "\n",
            "    accuracy                           0.93      8221\n",
            "   macro avg       0.93      0.93      0.93      8221\n",
            "weighted avg       0.93      0.93      0.93      8221\n",
            "\n"
          ]
        },
        {
          "output_type": "execute_result",
          "data": {
            "text/plain": [
              "<matplotlib.axes._subplots.AxesSubplot at 0x7ff12c55f950>"
            ]
          },
          "metadata": {},
          "execution_count": 35
        },
        {
          "output_type": "display_data",
          "data": {
            "text/plain": [
              "<Figure size 432x288 with 2 Axes>"
            ],
            "image/png": "[encoded data removed]"
          },
          "metadata": {
            "needs_background": "light"
          }
        }
      ]
    },
    {
      "cell_type": "code",
      "source": [
        "print(classification_report(y_test.T[1], pred_test[1].flatten()))\n",
        "sns.heatmap(confusion_matrix(y_test.T[1],pred_test[1].flatten()), annot=True,fmt='g')"
      ],
      "metadata": {
        "colab": {
          "base_uri": "https://localhost:8080/",
          "height": 439
        },
        "outputId": "6d9c1a58-6eee-409b-8cae-893494bd6fb3",
        "id": "PuFAVciuDBuU"
      },
      "execution_count": null,
      "outputs": [
        {
          "output_type": "stream",
          "name": "stdout",
          "text": [
            "              precision    recall  f1-score   support\n",
            "\n",
            "           0       0.81      0.81      0.81      3561\n",
            "           1       0.86      0.85      0.86      4660\n",
            "\n",
            "    accuracy                           0.84      8221\n",
            "   macro avg       0.83      0.83      0.83      8221\n",
            "weighted avg       0.84      0.84      0.84      8221\n",
            "\n"
          ]
        },
        {
          "output_type": "execute_result",
          "data": {
            "text/plain": [
              "<matplotlib.axes._subplots.AxesSubplot at 0x7ff139be47d0>"
            ]
          },
          "metadata": {},
          "execution_count": 36
        },
        {
          "output_type": "display_data",
          "data": {
            "text/plain": [
              "<Figure size 432x288 with 2 Axes>"
            ],
            "image/png": "[encoded data removed]"
          },
          "metadata": {
            "needs_background": "light"
          }
        }
      ]
    },
    {
      "cell_type": "code",
      "source": [
        "print(classification_report(y_test.T[2], pred_test[2].flatten()))\n",
        "sns.heatmap(confusion_matrix(y_test.T[2],pred_test[2].flatten()), annot=True,fmt='g')"
      ],
      "metadata": {
        "colab": {
          "base_uri": "https://localhost:8080/",
          "height": 439
        },
        "outputId": "7080628f-1821-4b63-b55f-79580137eb42",
        "id": "1mGMS14SDBuU"
      },
      "execution_count": null,
      "outputs": [
        {
          "output_type": "stream",
          "name": "stdout",
          "text": [
            "              precision    recall  f1-score   support\n",
            "\n",
            "           0       0.87      0.80      0.83      5587\n",
            "           1       0.64      0.75      0.69      2634\n",
            "\n",
            "    accuracy                           0.78      8221\n",
            "   macro avg       0.75      0.77      0.76      8221\n",
            "weighted avg       0.80      0.78      0.79      8221\n",
            "\n"
          ]
        },
        {
          "output_type": "execute_result",
          "data": {
            "text/plain": [
              "<matplotlib.axes._subplots.AxesSubplot at 0x7ff139a4f4d0>"
            ]
          },
          "metadata": {},
          "execution_count": 37
        },
        {
          "output_type": "display_data",
          "data": {
            "text/plain": [
              "<Figure size 432x288 with 2 Axes>"
            ],
            "image/png": "[encoded data removed]"
          },
          "metadata": {
            "needs_background": "light"
          }
        }
      ]
    },
    {
      "cell_type": "markdown",
      "source": [
        "### Multiple Inputs"
      ],
      "metadata": {
        "id": "j5YFuwsVgQPz"
      }
    },
    {
      "cell_type": "code",
      "source": [
        "def dual_bert():\n",
        "    \n",
        "    set_seed(33)\n",
        "    \n",
        "    opt = Adam(learning_rate=2e-5)\n",
        "    \n",
        "    id1 = Input((MAX_SEQUENCE_LENGTH,), dtype=tf.int32)\n",
        "    id2 = Input((MAX_SEQUENCE_LENGTH,), dtype=tf.int32)\n",
        "    \n",
        "    mask1 = Input((MAX_SEQUENCE_LENGTH,), dtype=tf.int32)\n",
        "    mask2 = Input((MAX_SEQUENCE_LENGTH,), dtype=tf.int32)\n",
        "    \n",
        "    atn1 = Input((MAX_SEQUENCE_LENGTH,), dtype=tf.int32)\n",
        "    atn2 = Input((MAX_SEQUENCE_LENGTH,), dtype=tf.int32)\n",
        "    \n",
        "    config = BertConfig() \n",
        "    config.output_hidden_states = False # Set to True to obtain hidden states\n",
        "    bert_model1 = TFBertModel.from_pretrained('bert-base-uncased', config=config)\n",
        "    bert_model2 = TFBertModel.from_pretrained('bert-base-uncased', config=config)\n",
        "    \n",
        "    embedding1 = bert_model1(id1, attention_mask=mask1, token_type_ids=atn1)[0]\n",
        "    embedding2 = bert_model2(id2, attention_mask=mask2, token_type_ids=atn2)[0]\n",
        "    \n",
        "    x1 = GlobalAveragePooling1D()(embedding1)\n",
        "    x2 = GlobalAveragePooling1D()(embedding2)\n",
        "    \n",
        "    x = Concatenate()([x1, x2])\n",
        "    x = Dense(64, activation='relu')(x)\n",
        "    x = Dropout(0.2)(x)\n",
        "    out_CV = Dense(1, activation='sigmoid',name = 'out_CV')(x)\n",
        "    out_LG = Dense(1, activation='sigmoid',name = 'out_LG')(x)\n",
        "    out_ML = Dense(1, activation='sigmoid',name = 'out_ML')(x)\n",
        "\n",
        "    model = Model(inputs=[id1, mask1, atn1, id2, mask2, atn2], outputs=[out_CV,out_LG,out_ML])\n",
        "    model.compile(optimizer=opt,\n",
        "                  loss={'out_CV': 'binary_crossentropy', 'out_LG': 'binary_crossentropy'\n",
        "                        ,'out_ML':'binary_crossentropy'},\n",
        "                  metrics={'out_CV': tf.keras.metrics.Accuracy(),\n",
        "                          'out_LG': tf.keras.metrics.Accuracy(),\n",
        "                          'out_ML': tf.keras.metrics.Accuracy()})\n",
        "    \n",
        "    return model"
      ],
      "metadata": {
        "id": "6Ko7Fv8_gWDI"
      },
      "execution_count": null,
      "outputs": []
    },
    {
      "cell_type": "code",
      "source": [
        "input_train,input_test = compute_input_train_test()"
      ],
      "metadata": {
        "colab": {
          "base_uri": "https://localhost:8080/",
          "height": 118,
          "referenced_widgets": [
            "e40bb2118a3f48158fafc13c3ed6b660",
            "3dedb89aae97486191ebd10587066496",
            "eaf40afacdb84d44bd8014eb728ff6f1",
            "c23bbb44404a48fe84f8924b95874de3",
            "5472ca46565f46b5bc8bff288b7c0907",
            "0ecaf3ce74d24ef093414443c74bcdaa",
            "d12c4545d1ad42ffb4d2ad06b0fad9fd",
            "bba94cb300e44c72b64e8d3447184005",
            "060c1c15cb0d45aaa9a955b242fbc83d",
            "cdb2c79e692948858c38a1614e852e60",
            "107e145e85ee4c45b671b1ebf0e3c1c7",
            "661b2b5cc85447b0b1f78b1d93974958",
            "48db7e7cf06544c19441cc92ce7bc8ca",
            "9d46919153954f79b946c69cdd6f2519",
            "b21faa816b684268afb90d18172fcde2",
            "c7b1991071b4499b9e4bc7d849a03f65",
            "66134686544449e19c7d54d512a3b26f",
            "2ffe32132f6b45edbf38bcde4b772854",
            "46750c9d2d3e4ce0811518736817a986",
            "72bf477cc9d940d3a7765b29accb48d1",
            "550bbc2386b94b008eff898e16843d10",
            "6d605a84b84f4249aaf5218986ea8a24"
          ]
        },
        "id": "f7bN9LL5hlyf",
        "outputId": "37206d83-ba9b-41d6-f51e-5034d018c3af"
      },
      "execution_count": null,
      "outputs": [
        {
          "output_type": "display_data",
          "data": {
            "text/plain": [
              "  0%|          | 0/36994 [00:00<?, ?it/s]"
            ],
            "application/vnd.jupyter.widget-view+json": {
              "version_major": 2,
              "version_minor": 0,
              "model_id": "e40bb2118a3f48158fafc13c3ed6b660"
            }
          },
          "metadata": {}
        },
        {
          "output_type": "stream",
          "name": "stderr",
          "text": [
            "Truncation was not explicitly activated but `max_length` is provided a specific value, please use `truncation=True` to explicitly truncate examples to max length. Defaulting to 'longest_first' truncation strategy. If you encode pairs of sequences (GLUE-style) with the tokenizer you can select this strategy more precisely by providing a specific strategy to `truncation`.\n"
          ]
        },
        {
          "output_type": "display_data",
          "data": {
            "text/plain": [
              "  0%|          | 0/4111 [00:00<?, ?it/s]"
            ],
            "application/vnd.jupyter.widget-view+json": {
              "version_major": 2,
              "version_minor": 0,
              "model_id": "661b2b5cc85447b0b1f78b1d93974958"
            }
          },
          "metadata": {}
        }
      ]
    },
    {
      "cell_type": "code",
      "source": [
        "model = dual_bert()\n",
        "model.fit(input_test, y = (y_test.T[0],y_test.T[1],y_test.T[2]), epochs=1, batch_size=6)"
      ],
      "metadata": {
        "colab": {
          "base_uri": "https://localhost:8080/"
        },
        "id": "93XrRWtlg6Qd",
        "outputId": "ab589af2-fe7a-431b-f85e-a11c73ee280a"
      },
      "execution_count": null,
      "outputs": [
        {
          "output_type": "stream",
          "name": "stdout",
          "text": [
            "WARNING:tensorflow:Gradients do not exist for variables ['tf_bert_model/bert/pooler/dense/kernel:0', 'tf_bert_model/bert/pooler/dense/bias:0', 'tf_bert_model_1/bert/pooler/dense/kernel:0', 'tf_bert_model_1/bert/pooler/dense/bias:0'] when minimizing the loss. If you're using `model.compile()`, did you forget to provide a `loss`argument?\n",
            "WARNING:tensorflow:Gradients do not exist for variables ['tf_bert_model/bert/pooler/dense/kernel:0', 'tf_bert_model/bert/pooler/dense/bias:0', 'tf_bert_model_1/bert/pooler/dense/kernel:0', 'tf_bert_model_1/bert/pooler/dense/bias:0'] when minimizing the loss. If you're using `model.compile()`, did you forget to provide a `loss`argument?\n"
          ]
        }
      ]
    },
    {
      "cell_type": "code",
      "source": [
        "  "
      ],
      "metadata": {
        "id": "piZ1Et76hCiU"
      },
      "execution_count": null,
      "outputs": []
    }
  ]
}